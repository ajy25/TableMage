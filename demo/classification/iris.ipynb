{
 "cells": [
  {
   "cell_type": "markdown",
   "metadata": {},
   "source": [
    "### Load data"
   ]
  },
  {
   "cell_type": "code",
   "execution_count": 1,
   "metadata": {},
   "outputs": [
    {
     "data": {
      "text/html": [
       "<div>\n",
       "<style scoped>\n",
       "    .dataframe tbody tr th:only-of-type {\n",
       "        vertical-align: middle;\n",
       "    }\n",
       "\n",
       "    .dataframe tbody tr th {\n",
       "        vertical-align: top;\n",
       "    }\n",
       "\n",
       "    .dataframe thead th {\n",
       "        text-align: right;\n",
       "    }\n",
       "</style>\n",
       "<table border=\"1\" class=\"dataframe\">\n",
       "  <thead>\n",
       "    <tr style=\"text-align: right;\">\n",
       "      <th></th>\n",
       "      <th>sepal length (cm)</th>\n",
       "      <th>sepal width (cm)</th>\n",
       "      <th>petal length (cm)</th>\n",
       "      <th>petal width (cm)</th>\n",
       "      <th>target</th>\n",
       "    </tr>\n",
       "  </thead>\n",
       "  <tbody>\n",
       "    <tr>\n",
       "      <th>0</th>\n",
       "      <td>5.1</td>\n",
       "      <td>3.5</td>\n",
       "      <td>1.4</td>\n",
       "      <td>0.2</td>\n",
       "      <td>setosa</td>\n",
       "    </tr>\n",
       "    <tr>\n",
       "      <th>1</th>\n",
       "      <td>4.9</td>\n",
       "      <td>3.0</td>\n",
       "      <td>1.4</td>\n",
       "      <td>0.2</td>\n",
       "      <td>setosa</td>\n",
       "    </tr>\n",
       "    <tr>\n",
       "      <th>2</th>\n",
       "      <td>4.7</td>\n",
       "      <td>3.2</td>\n",
       "      <td>1.3</td>\n",
       "      <td>0.2</td>\n",
       "      <td>setosa</td>\n",
       "    </tr>\n",
       "    <tr>\n",
       "      <th>3</th>\n",
       "      <td>4.6</td>\n",
       "      <td>3.1</td>\n",
       "      <td>1.5</td>\n",
       "      <td>0.2</td>\n",
       "      <td>setosa</td>\n",
       "    </tr>\n",
       "    <tr>\n",
       "      <th>4</th>\n",
       "      <td>5.0</td>\n",
       "      <td>3.6</td>\n",
       "      <td>1.4</td>\n",
       "      <td>0.2</td>\n",
       "      <td>setosa</td>\n",
       "    </tr>\n",
       "    <tr>\n",
       "      <th>...</th>\n",
       "      <td>...</td>\n",
       "      <td>...</td>\n",
       "      <td>...</td>\n",
       "      <td>...</td>\n",
       "      <td>...</td>\n",
       "    </tr>\n",
       "    <tr>\n",
       "      <th>145</th>\n",
       "      <td>6.7</td>\n",
       "      <td>3.0</td>\n",
       "      <td>5.2</td>\n",
       "      <td>2.3</td>\n",
       "      <td>virginica</td>\n",
       "    </tr>\n",
       "    <tr>\n",
       "      <th>146</th>\n",
       "      <td>6.3</td>\n",
       "      <td>2.5</td>\n",
       "      <td>5.0</td>\n",
       "      <td>1.9</td>\n",
       "      <td>virginica</td>\n",
       "    </tr>\n",
       "    <tr>\n",
       "      <th>147</th>\n",
       "      <td>6.5</td>\n",
       "      <td>3.0</td>\n",
       "      <td>5.2</td>\n",
       "      <td>2.0</td>\n",
       "      <td>virginica</td>\n",
       "    </tr>\n",
       "    <tr>\n",
       "      <th>148</th>\n",
       "      <td>6.2</td>\n",
       "      <td>3.4</td>\n",
       "      <td>5.4</td>\n",
       "      <td>2.3</td>\n",
       "      <td>virginica</td>\n",
       "    </tr>\n",
       "    <tr>\n",
       "      <th>149</th>\n",
       "      <td>5.9</td>\n",
       "      <td>3.0</td>\n",
       "      <td>5.1</td>\n",
       "      <td>1.8</td>\n",
       "      <td>virginica</td>\n",
       "    </tr>\n",
       "  </tbody>\n",
       "</table>\n",
       "<p>150 rows × 5 columns</p>\n",
       "</div>"
      ],
      "text/plain": [
       "     sepal length (cm)  sepal width (cm)  petal length (cm)  petal width (cm)  \\\n",
       "0                  5.1               3.5                1.4               0.2   \n",
       "1                  4.9               3.0                1.4               0.2   \n",
       "2                  4.7               3.2                1.3               0.2   \n",
       "3                  4.6               3.1                1.5               0.2   \n",
       "4                  5.0               3.6                1.4               0.2   \n",
       "..                 ...               ...                ...               ...   \n",
       "145                6.7               3.0                5.2               2.3   \n",
       "146                6.3               2.5                5.0               1.9   \n",
       "147                6.5               3.0                5.2               2.0   \n",
       "148                6.2               3.4                5.4               2.3   \n",
       "149                5.9               3.0                5.1               1.8   \n",
       "\n",
       "        target  \n",
       "0       setosa  \n",
       "1       setosa  \n",
       "2       setosa  \n",
       "3       setosa  \n",
       "4       setosa  \n",
       "..         ...  \n",
       "145  virginica  \n",
       "146  virginica  \n",
       "147  virginica  \n",
       "148  virginica  \n",
       "149  virginica  \n",
       "\n",
       "[150 rows x 5 columns]"
      ]
     },
     "execution_count": 1,
     "metadata": {},
     "output_type": "execute_result"
    }
   ],
   "source": [
    "from sklearn import datasets\n",
    "import pandas as pd\n",
    "pd.set_option('display.max_columns', None)\n",
    "import sys\n",
    "sys.path.append('../../')\n",
    "\n",
    "iris = datasets.load_iris()\n",
    "data = pd.DataFrame(iris.data, columns=iris.feature_names)\n",
    "target = pd.Series(iris.target)\n",
    "target.name = 'target'\n",
    "df = pd.concat([data, target], axis=1)\n",
    "df['target'] = df['target'].map(\n",
    "    {0: 'setosa', 1: 'versicolor', 2: 'virginica'}\n",
    ")\n",
    "df"
   ]
  },
  {
   "cell_type": "markdown",
   "metadata": {},
   "source": [
    "### Initialize a TabularMagic object"
   ]
  },
  {
   "cell_type": "code",
   "execution_count": 2,
   "metadata": {},
   "outputs": [
    {
     "name": "stdout",
     "output_type": "stream",
     "text": [
      "\u001b[92mUPDT: \u001b[0mRenamed variables \u001b[95m'petal length (cm)', \u001b[0m\u001b[95m'petal width (cm)', \u001b[0m\u001b[95m'sepal length (cm)', \n",
      "      \u001b[0m\u001b[95m'sepal width (cm)'\u001b[0m to \u001b[95m'petal_length_(cm)', \u001b[0m\u001b[95m'petal_width_(cm)', \n",
      "      \u001b[0m\u001b[95m'sepal_length_(cm)', \u001b[0m\u001b[95m'sepal_width_(cm)'\u001b[0m. \n",
      "\u001b[92mUPDT: \u001b[0mAnalyzer initialized for dataset \u001b[93m'Iris scikit-learn dataset'\u001b[0m. Train, test shapes: \n",
      "      \u001b[93m(120, 5)\u001b[0m, \u001b[93m(30, 5)\u001b[0m. \n"
     ]
    },
    {
     "data": {
      "text/plain": [
       "========================================================================================\n",
       "\u001b[1mIris scikit-learn dataset\u001b[0m \n",
       "----------------------------------------------------------------------------------------\n",
       "\u001b[1mTrain shape: \u001b[0m\u001b[93m(120, 5)\u001b[0m                        \u001b[1mTest shape: \u001b[0m\u001b[93m(30, 5)\u001b[0m                        \n",
       "----------------------------------------------------------------------------------------\n",
       "\u001b[1mCategorical variables:\u001b[0m\n",
       "  \u001b[95m'target'\u001b[0m \n",
       "                                                                                        \n",
       "\u001b[1mNumeric variables:\u001b[0m\n",
       "  \u001b[95m'petal_length_(cm)', \u001b[0m\u001b[95m'petal_width_(cm)', \u001b[0m\u001b[95m'sepal_length_(cm)', \u001b[0m\u001b[95m'sepal_width_(cm)'\u001b[0m \n",
       "========================================================================================"
      ]
     },
     "execution_count": 2,
     "metadata": {},
     "output_type": "execute_result"
    }
   ],
   "source": [
    "import tabularmagic as tm\n",
    "analyzer = tm.Analyzer(df, test_size=0.2, name='Iris scikit-learn dataset')\n",
    "analyzer"
   ]
  },
  {
   "cell_type": "code",
   "execution_count": 5,
   "metadata": {},
   "outputs": [
    {
     "name": "stdout",
     "output_type": "stream",
     "text": [
      "\u001b[91mWARN: \u001b[0mError occured when computing the roc_auc score: \u001b[94mInput contains NaN.\u001b[0m \n",
      "\u001b[91mWARN: \u001b[0mError occured when computing the roc_auc score: \u001b[94mInput contains NaN.\u001b[0m \n"
     ]
    },
    {
     "name": "stderr",
     "output_type": "stream",
     "text": [
      "/Users/andrewyang/anaconda3/lib/python3.11/site-packages/statsmodels/discrete/discrete_model.py:3027: RuntimeWarning: overflow encountered in exp\n",
      "  eXB = np.column_stack((np.ones(len(X)), np.exp(X)))\n",
      "/Users/andrewyang/anaconda3/lib/python3.11/site-packages/statsmodels/discrete/discrete_model.py:3028: RuntimeWarning: invalid value encountered in divide\n",
      "  return eXB/eXB.sum(1)[:,None]\n"
     ]
    },
    {
     "data": {
      "text/plain": [
       "<tabularmagic._src.linear.reports.mnlogit_report.MNLogitReport at 0x1272dd710>"
      ]
     },
     "execution_count": 5,
     "metadata": {},
     "output_type": "execute_result"
    }
   ],
   "source": [
    "output = analyzer.logit(\n",
    "    target='target',\n",
    "    predictors=['petal_length_(cm)', 'petal_width_(cm)', 'sepal_length_(cm)', 'sepal_width_(cm)']\n",
    ")\n",
    "output"
   ]
  },
  {
   "cell_type": "code",
   "execution_count": 5,
   "metadata": {},
   "outputs": [
    {
     "name": "stdout",
     "output_type": "stream",
     "text": [
      "\u001b[92mUPDT: \u001b[0mFitting model \u001b[94m'LinearC(l2)'\u001b[0m. \n",
      "\u001b[93mPROG: \u001b[0mFitting \u001b[94m'LinearC(l2)'\u001b[0m. Search method: OptunaSearchCV (100 trials, 500 total fits). \n",
      "       \n"
     ]
    },
    {
     "name": "stdout",
     "output_type": "stream",
     "text": [
      "\u001b[93mPROG: \u001b[0mOptimal thresholds set for \u001b[94m'LinearC(l2)'\u001b[0m via f1. \n",
      "\u001b[92mUPDT: \u001b[0mSuccessfully fitted model \u001b[94m'LinearC(l2)'\u001b[0m. \n",
      "\u001b[92mUPDT: \u001b[0mFitting model \u001b[94m'LinearC (no threshold)'\u001b[0m. \n",
      "\u001b[93mPROG: \u001b[0mFitting \u001b[94m'LinearC (no threshold)'\u001b[0m. Search method: OptunaSearchCV (100 trials, 500 \n",
      "      total fits).  \n",
      "\u001b[92mUPDT: \u001b[0mSuccessfully fitted model \u001b[94m'LinearC (no threshold)'\u001b[0m. \n"
     ]
    },
    {
     "data": {
      "text/plain": [
       "========================================================================================\n",
       "\u001b[1mML Classification Report\u001b[0m\n",
       "----------------------------------------------------------------------------------------\n",
       "\u001b[1mTarget variable:\u001b[0m\n",
       "  \u001b[95m'target'\u001b[0m \n",
       "                                                                                        \n",
       "\u001b[1mPredictor variables:\u001b[0m\n",
       "  \u001b[95m'petal_length_(cm)', \u001b[0m\u001b[95m'petal_width_(cm)', \u001b[0m\u001b[95m'sepal_length_(cm)', \u001b[0m\u001b[95m'sepal_width_(cm)'\u001b[0m \n",
       "                                                                                        \n",
       "\u001b[1mModels evaluated:\u001b[0m\n",
       "  \u001b[94m'LinearC(l2)', \u001b[0m\u001b[94m'LinearC (no threshold)'\u001b[0m \n",
       "                                                                                        \n",
       "\u001b[1mFeature selectors:\u001b[0m\n",
       "  \u001b[93mNone\u001b[0m \n",
       "----------------------------------------------------------------------------------------\n",
       "\u001b[1mBest models:\u001b[0m\n",
       "  1. \u001b[94m'LinearC(l2)'\u001b[0m                           Test F1: \u001b[93m1.0\u001b[0m \n",
       "  2. \u001b[94m'LinearC (no threshold)'\u001b[0m                Test F1: \u001b[93m1.0\u001b[0m \n",
       "========================================================================================"
      ]
     },
     "execution_count": 5,
     "metadata": {},
     "output_type": "execute_result"
    }
   ],
   "source": [
    "analyzer.classify(\n",
    "    models=[\n",
    "        tm.ml.LinearC(),\n",
    "        tm.ml.LinearC(threshold_strategy=None, name=\"LinearC (no threshold)\"),\n",
    "    ],\n",
    "    target='target'\n",
    ")"
   ]
  },
  {
   "cell_type": "markdown",
   "metadata": {},
   "source": [
    "### Conduct exploratory analysis"
   ]
  },
  {
   "cell_type": "markdown",
   "metadata": {},
   "source": [
    "Visualize the distribution of petallength(cm) stratified by the target"
   ]
  },
  {
   "cell_type": "code",
   "execution_count": 4,
   "metadata": {},
   "outputs": [
    {
     "data": {
      "image/png": "[encoded data removed]",
      "text/plain": [
       "<Figure size 500x500 with 1 Axes>"
      ]
     },
     "execution_count": 4,
     "metadata": {},
     "output_type": "execute_result"
    }
   ],
   "source": [
    "analyzer.eda(dataset='all').plot_distribution_stratified(\n",
    "    'petal_length_(cm)', 'target', strategy='stacked_hist_kde_frequency')"
   ]
  },
  {
   "cell_type": "markdown",
   "metadata": {},
   "source": [
    "Visualize the distribution of all continuous variables"
   ]
  },
  {
   "cell_type": "code",
   "execution_count": 5,
   "metadata": {},
   "outputs": [
    {
     "data": {
      "image/png": "[encoded data removed]",
      "text/plain": [
       "<Figure size 700x700 with 20 Axes>"
      ]
     },
     "execution_count": 5,
     "metadata": {},
     "output_type": "execute_result"
    }
   ],
   "source": [
    "analyzer.eda(dataset='all').plot_numeric_pairs(\n",
    "    numeric_vars=analyzer.datahandler().numeric_vars()\n",
    ")"
   ]
  },
  {
   "cell_type": "markdown",
   "metadata": {},
   "source": [
    "Visualize PCA stratified by the target label"
   ]
  },
  {
   "cell_type": "code",
   "execution_count": 6,
   "metadata": {},
   "outputs": [
    {
     "data": {
      "image/png": "[encoded data removed]",
      "text/plain": [
       "<Figure size 500x500 with 1 Axes>"
      ]
     },
     "execution_count": 6,
     "metadata": {},
     "output_type": "execute_result"
    }
   ],
   "source": [
    "analyzer.eda(dataset='all').plot_pca(\n",
    "    numeric_vars=analyzer.datahandler().numeric_vars(), \n",
    "    stratify_by='target'\n",
    ")"
   ]
  },
  {
   "cell_type": "markdown",
   "metadata": {},
   "source": [
    "### Machine learning classification benchmarking"
   ]
  },
  {
   "cell_type": "code",
   "execution_count": 7,
   "metadata": {},
   "outputs": [
    {
     "name": "stdout",
     "output_type": "stream",
     "text": [
      "\u001b[92mINFO: \u001b[0mEvaluating model \u001b[94m'LinearC(no_penalty)'\u001b[0m. \n",
      "\u001b[93mPROG: \u001b[0mFitting \u001b[94m'LinearC(no_penalty)'\u001b[0m. Search method: GridSearchCV (1 fits per fold, 5 \n",
      "      total fits).  \n",
      "\u001b[93mPROG: \u001b[0mFitting \u001b[94m'LinearC(no_penalty)'\u001b[0m. Search method: GridSearchCV (1 fits per fold, 5 \n",
      "      total fits).  \n",
      "\u001b[93mPROG: \u001b[0mFitting \u001b[94m'LinearC(no_penalty)'\u001b[0m. Search method: GridSearchCV (1 fits per fold, 5 \n",
      "      total fits).  \n",
      "\u001b[92mINFO: \u001b[0mSuccessfully evaluated model \u001b[94m'LinearC(no_penalty)'\u001b[0m. \n",
      "\u001b[92mINFO: \u001b[0mEvaluating model \u001b[94m'LinearC(l2)'\u001b[0m. \n",
      "\u001b[93mPROG: \u001b[0mFitting \u001b[94m'LinearC(l2)'\u001b[0m. Search method: OptunaSearchCV (100 trials, 500 total fits). \n",
      "       \n",
      "\u001b[93mPROG: \u001b[0mFitting \u001b[94m'LinearC(l2)'\u001b[0m. Search method: OptunaSearchCV (100 trials, 500 total fits). \n",
      "       \n",
      "\u001b[93mPROG: \u001b[0mFitting \u001b[94m'LinearC(l2)'\u001b[0m. Search method: OptunaSearchCV (100 trials, 500 total fits). \n",
      "       \n",
      "\u001b[92mINFO: \u001b[0mSuccessfully evaluated model \u001b[94m'LinearC(l2)'\u001b[0m. \n",
      "\u001b[92mINFO: \u001b[0mEvaluating model \u001b[94m'TreesC(random_forest)'\u001b[0m. \n",
      "\u001b[93mPROG: \u001b[0mFitting \u001b[94m'TreesC(random_forest)'\u001b[0m. Search method: OptunaSearchCV (100 trials, 500 \n",
      "      total fits).  \n",
      "\u001b[93mPROG: \u001b[0mFitting \u001b[94m'TreesC(random_forest)'\u001b[0m. Search method: OptunaSearchCV (100 trials, 500 \n",
      "      total fits).  \n",
      "\u001b[93mPROG: \u001b[0mFitting \u001b[94m'TreesC(random_forest)'\u001b[0m. Search method: OptunaSearchCV (100 trials, 500 \n",
      "      total fits).  \n",
      "\u001b[92mINFO: \u001b[0mSuccessfully evaluated model \u001b[94m'TreesC(random_forest)'\u001b[0m. \n"
     ]
    }
   ],
   "source": [
    "report = analyzer.classify(\n",
    "    models=[\n",
    "        tm.ml.LinearC(type='no_penalty'),\n",
    "        tm.ml.LinearC(type='l2'),\n",
    "        tm.ml.TreesC(type='random_forest'),\n",
    "    ], \n",
    "    target='target',\n",
    "    outer_cv=2\n",
    ")"
   ]
  },
  {
   "cell_type": "code",
   "execution_count": 8,
   "metadata": {},
   "outputs": [
    {
     "data": {
      "text/plain": [
       "========================================================================================\n",
       "\u001b[1mML Classification Report\u001b[0m\n",
       "----------------------------------------------------------------------------------------\n",
       "\u001b[1mTarget variable:\u001b[0m\n",
       "  \u001b[95m'target'\u001b[0m \n",
       "                                                                                        \n",
       "\u001b[1mPredictor variables:\u001b[0m\n",
       "  \u001b[95m'sepal_length_(cm)', \u001b[0m\u001b[95m'sepal_width_(cm)', \u001b[0m\u001b[95m'petal_length_(cm)', \u001b[0m\u001b[95m'petal_width_(cm)'\u001b[0m \n",
       "                                                                                        \n",
       "\u001b[1mModels evaluated:\u001b[0m\n",
       "  \u001b[94m'LinearC(no_penalty)', \u001b[0m\u001b[94m'LinearC(l2)', \u001b[0m\u001b[94m'TreesC(random_forest)'\u001b[0m \n",
       "                                                                                        \n",
       "\u001b[1mFeature selectors:\u001b[0m\n",
       "  \u001b[93mNone\u001b[0m \n",
       "----------------------------------------------------------------------------------------\n",
       "\u001b[1mBest models:\u001b[0m\n",
       "  1. \u001b[94m'LinearC(no_penalty)'\u001b[0m                   Test F1: \u001b[93m1.0\u001b[0m \n",
       "  2. \u001b[94m'LinearC(l2)'\u001b[0m                           Test F1: \u001b[93m1.0\u001b[0m \n",
       "  3. \u001b[94m'TreesC(random_forest)'\u001b[0m                 Test F1: \u001b[93m1.0\u001b[0m \n",
       "========================================================================================"
      ]
     },
     "execution_count": 8,
     "metadata": {},
     "output_type": "execute_result"
    }
   ],
   "source": [
    "report"
   ]
  },
  {
   "cell_type": "markdown",
   "metadata": {},
   "source": [
    "View fit statistics for each fold"
   ]
  },
  {
   "cell_type": "code",
   "execution_count": 15,
   "metadata": {},
   "outputs": [
    {
     "data": {
      "text/html": [
       "<div>\n",
       "<style scoped>\n",
       "    .dataframe tbody tr th:only-of-type {\n",
       "        vertical-align: middle;\n",
       "    }\n",
       "\n",
       "    .dataframe tbody tr th {\n",
       "        vertical-align: top;\n",
       "    }\n",
       "\n",
       "    .dataframe thead th {\n",
       "        text-align: right;\n",
       "    }\n",
       "</style>\n",
       "<table border=\"1\" class=\"dataframe\">\n",
       "  <thead>\n",
       "    <tr style=\"text-align: right;\">\n",
       "      <th></th>\n",
       "      <th>LinearC(no_penalty)</th>\n",
       "      <th>LinearC(l2)</th>\n",
       "      <th>TreeEnsembleC(adaboost)</th>\n",
       "    </tr>\n",
       "    <tr>\n",
       "      <th>Statistic</th>\n",
       "      <th></th>\n",
       "      <th></th>\n",
       "      <th></th>\n",
       "    </tr>\n",
       "  </thead>\n",
       "  <tbody>\n",
       "    <tr>\n",
       "      <th>accuracy</th>\n",
       "      <td>0.958333</td>\n",
       "      <td>0.95</td>\n",
       "      <td>0.941667</td>\n",
       "    </tr>\n",
       "    <tr>\n",
       "      <th>f1</th>\n",
       "      <td>0.958318</td>\n",
       "      <td>0.949969</td>\n",
       "      <td>0.941651</td>\n",
       "    </tr>\n",
       "    <tr>\n",
       "      <th>precision</th>\n",
       "      <td>0.959482</td>\n",
       "      <td>0.950355</td>\n",
       "      <td>0.941667</td>\n",
       "    </tr>\n",
       "    <tr>\n",
       "      <th>recall</th>\n",
       "      <td>0.959127</td>\n",
       "      <td>0.950355</td>\n",
       "      <td>0.942022</td>\n",
       "    </tr>\n",
       "    <tr>\n",
       "      <th>roc_auc(ovo)</th>\n",
       "      <td>NaN</td>\n",
       "      <td>NaN</td>\n",
       "      <td>NaN</td>\n",
       "    </tr>\n",
       "    <tr>\n",
       "      <th>n_obs</th>\n",
       "      <td>60.0</td>\n",
       "      <td>60.0</td>\n",
       "      <td>60.0</td>\n",
       "    </tr>\n",
       "  </tbody>\n",
       "</table>\n",
       "</div>"
      ],
      "text/plain": [
       "             LinearC(no_penalty) LinearC(l2) TreeEnsembleC(adaboost)\n",
       "Statistic                                                           \n",
       "accuracy                0.958333        0.95                0.941667\n",
       "f1                      0.958318    0.949969                0.941651\n",
       "precision               0.959482    0.950355                0.941667\n",
       "recall                  0.959127    0.950355                0.942022\n",
       "roc_auc(ovo)                 NaN         NaN                     NaN\n",
       "n_obs                       60.0        60.0                    60.0"
      ]
     },
     "execution_count": 15,
     "metadata": {},
     "output_type": "execute_result"
    }
   ],
   "source": [
    "report.cv_metrics()"
   ]
  },
  {
   "cell_type": "code",
   "execution_count": 17,
   "metadata": {},
   "outputs": [
    {
     "data": {
      "text/html": [
       "<div>\n",
       "<style scoped>\n",
       "    .dataframe tbody tr th:only-of-type {\n",
       "        vertical-align: middle;\n",
       "    }\n",
       "\n",
       "    .dataframe tbody tr th {\n",
       "        vertical-align: top;\n",
       "    }\n",
       "\n",
       "    .dataframe thead th {\n",
       "        text-align: right;\n",
       "    }\n",
       "</style>\n",
       "<table border=\"1\" class=\"dataframe\">\n",
       "  <thead>\n",
       "    <tr style=\"text-align: right;\">\n",
       "      <th></th>\n",
       "      <th>LinearC(no_penalty)</th>\n",
       "      <th>LinearC(l2)</th>\n",
       "      <th>TreeEnsembleC(adaboost)</th>\n",
       "    </tr>\n",
       "    <tr>\n",
       "      <th>Statistic</th>\n",
       "      <th></th>\n",
       "      <th></th>\n",
       "      <th></th>\n",
       "    </tr>\n",
       "  </thead>\n",
       "  <tbody>\n",
       "    <tr>\n",
       "      <th>accuracy</th>\n",
       "      <td>1.0</td>\n",
       "      <td>1.0</td>\n",
       "      <td>1.0</td>\n",
       "    </tr>\n",
       "    <tr>\n",
       "      <th>f1</th>\n",
       "      <td>1.0</td>\n",
       "      <td>1.0</td>\n",
       "      <td>1.0</td>\n",
       "    </tr>\n",
       "    <tr>\n",
       "      <th>precision</th>\n",
       "      <td>1.0</td>\n",
       "      <td>1.0</td>\n",
       "      <td>1.0</td>\n",
       "    </tr>\n",
       "    <tr>\n",
       "      <th>recall</th>\n",
       "      <td>1.0</td>\n",
       "      <td>1.0</td>\n",
       "      <td>1.0</td>\n",
       "    </tr>\n",
       "    <tr>\n",
       "      <th>roc_auc(ovo)</th>\n",
       "      <td>1.0</td>\n",
       "      <td>1.0</td>\n",
       "      <td>1.0</td>\n",
       "    </tr>\n",
       "    <tr>\n",
       "      <th>n_obs</th>\n",
       "      <td>30</td>\n",
       "      <td>30</td>\n",
       "      <td>30</td>\n",
       "    </tr>\n",
       "  </tbody>\n",
       "</table>\n",
       "</div>"
      ],
      "text/plain": [
       "             LinearC(no_penalty) LinearC(l2) TreeEnsembleC(adaboost)\n",
       "Statistic                                                           \n",
       "accuracy                     1.0         1.0                     1.0\n",
       "f1                           1.0         1.0                     1.0\n",
       "precision                    1.0         1.0                     1.0\n",
       "recall                       1.0         1.0                     1.0\n",
       "roc_auc(ovo)                 1.0         1.0                     1.0\n",
       "n_obs                         30          30                      30"
      ]
     },
     "execution_count": 17,
     "metadata": {},
     "output_type": "execute_result"
    }
   ],
   "source": [
    "report.metrics('test')"
   ]
  },
  {
   "cell_type": "code",
   "execution_count": 19,
   "metadata": {},
   "outputs": [
    {
     "data": {
      "text/html": [
       "<div>\n",
       "<style scoped>\n",
       "    .dataframe tbody tr th:only-of-type {\n",
       "        vertical-align: middle;\n",
       "    }\n",
       "\n",
       "    .dataframe tbody tr th {\n",
       "        vertical-align: top;\n",
       "    }\n",
       "\n",
       "    .dataframe thead th {\n",
       "        text-align: right;\n",
       "    }\n",
       "</style>\n",
       "<table border=\"1\" class=\"dataframe\">\n",
       "  <thead>\n",
       "    <tr style=\"text-align: right;\">\n",
       "      <th></th>\n",
       "      <th></th>\n",
       "      <th>LinearC(no_penalty)</th>\n",
       "      <th>LinearC(l2)</th>\n",
       "      <th>TreeEnsembleC(adaboost)</th>\n",
       "    </tr>\n",
       "    <tr>\n",
       "      <th>Class</th>\n",
       "      <th>Statistic</th>\n",
       "      <th></th>\n",
       "      <th></th>\n",
       "      <th></th>\n",
       "    </tr>\n",
       "  </thead>\n",
       "  <tbody>\n",
       "    <tr>\n",
       "      <th rowspan=\"5\" valign=\"top\">setosa</th>\n",
       "      <th>accuracy</th>\n",
       "      <td>0.958333</td>\n",
       "      <td>0.95</td>\n",
       "      <td>0.941667</td>\n",
       "    </tr>\n",
       "    <tr>\n",
       "      <th>f1</th>\n",
       "      <td>1.0</td>\n",
       "      <td>1.0</td>\n",
       "      <td>1.0</td>\n",
       "    </tr>\n",
       "    <tr>\n",
       "      <th>n_obs</th>\n",
       "      <td>60.0</td>\n",
       "      <td>60.0</td>\n",
       "      <td>60.0</td>\n",
       "    </tr>\n",
       "    <tr>\n",
       "      <th>precision</th>\n",
       "      <td>1.0</td>\n",
       "      <td>1.0</td>\n",
       "      <td>1.0</td>\n",
       "    </tr>\n",
       "    <tr>\n",
       "      <th>recall</th>\n",
       "      <td>1.0</td>\n",
       "      <td>1.0</td>\n",
       "      <td>1.0</td>\n",
       "    </tr>\n",
       "    <tr>\n",
       "      <th rowspan=\"5\" valign=\"top\">versicolor</th>\n",
       "      <th>accuracy</th>\n",
       "      <td>0.958333</td>\n",
       "      <td>0.95</td>\n",
       "      <td>0.941667</td>\n",
       "    </tr>\n",
       "    <tr>\n",
       "      <th>f1</th>\n",
       "      <td>0.938415</td>\n",
       "      <td>0.926829</td>\n",
       "      <td>0.913415</td>\n",
       "    </tr>\n",
       "    <tr>\n",
       "      <th>n_obs</th>\n",
       "      <td>60.0</td>\n",
       "      <td>60.0</td>\n",
       "      <td>60.0</td>\n",
       "    </tr>\n",
       "    <tr>\n",
       "      <th>precision</th>\n",
       "      <td>0.952381</td>\n",
       "      <td>0.927381</td>\n",
       "      <td>0.925</td>\n",
       "    </tr>\n",
       "    <tr>\n",
       "      <th>recall</th>\n",
       "      <td>0.927381</td>\n",
       "      <td>0.927381</td>\n",
       "      <td>0.902381</td>\n",
       "    </tr>\n",
       "    <tr>\n",
       "      <th rowspan=\"5\" valign=\"top\">virginica</th>\n",
       "      <th>accuracy</th>\n",
       "      <td>0.958333</td>\n",
       "      <td>0.95</td>\n",
       "      <td>0.941667</td>\n",
       "    </tr>\n",
       "    <tr>\n",
       "      <th>f1</th>\n",
       "      <td>0.936538</td>\n",
       "      <td>0.923077</td>\n",
       "      <td>0.911538</td>\n",
       "    </tr>\n",
       "    <tr>\n",
       "      <th>n_obs</th>\n",
       "      <td>60.0</td>\n",
       "      <td>60.0</td>\n",
       "      <td>60.0</td>\n",
       "    </tr>\n",
       "    <tr>\n",
       "      <th>precision</th>\n",
       "      <td>0.926065</td>\n",
       "      <td>0.923684</td>\n",
       "      <td>0.9</td>\n",
       "    </tr>\n",
       "    <tr>\n",
       "      <th>recall</th>\n",
       "      <td>0.95</td>\n",
       "      <td>0.923684</td>\n",
       "      <td>0.923684</td>\n",
       "    </tr>\n",
       "  </tbody>\n",
       "</table>\n",
       "</div>"
      ],
      "text/plain": [
       "                     LinearC(no_penalty) LinearC(l2) TreeEnsembleC(adaboost)\n",
       "Class      Statistic                                                        \n",
       "setosa     accuracy             0.958333        0.95                0.941667\n",
       "           f1                        1.0         1.0                     1.0\n",
       "           n_obs                    60.0        60.0                    60.0\n",
       "           precision                 1.0         1.0                     1.0\n",
       "           recall                    1.0         1.0                     1.0\n",
       "versicolor accuracy             0.958333        0.95                0.941667\n",
       "           f1                   0.938415    0.926829                0.913415\n",
       "           n_obs                    60.0        60.0                    60.0\n",
       "           precision            0.952381    0.927381                   0.925\n",
       "           recall               0.927381    0.927381                0.902381\n",
       "virginica  accuracy             0.958333        0.95                0.941667\n",
       "           f1                   0.936538    0.923077                0.911538\n",
       "           n_obs                    60.0        60.0                    60.0\n",
       "           precision            0.926065    0.923684                     0.9\n",
       "           recall                   0.95    0.923684                0.923684"
      ]
     },
     "execution_count": 19,
     "metadata": {},
     "output_type": "execute_result"
    }
   ],
   "source": [
    "report.cv_metrics_by_class(True)"
   ]
  },
  {
   "cell_type": "code",
   "execution_count": 22,
   "metadata": {},
   "outputs": [
    {
     "data": {
      "text/html": [
       "<div>\n",
       "<style scoped>\n",
       "    .dataframe tbody tr th:only-of-type {\n",
       "        vertical-align: middle;\n",
       "    }\n",
       "\n",
       "    .dataframe tbody tr th {\n",
       "        vertical-align: top;\n",
       "    }\n",
       "\n",
       "    .dataframe thead th {\n",
       "        text-align: right;\n",
       "    }\n",
       "</style>\n",
       "<table border=\"1\" class=\"dataframe\">\n",
       "  <thead>\n",
       "    <tr style=\"text-align: right;\">\n",
       "      <th></th>\n",
       "      <th></th>\n",
       "      <th>LinearC(no_penalty)</th>\n",
       "      <th>LinearC(l2)</th>\n",
       "      <th>TreeEnsembleC(adaboost)</th>\n",
       "    </tr>\n",
       "    <tr>\n",
       "      <th>Class</th>\n",
       "      <th>Statistic</th>\n",
       "      <th></th>\n",
       "      <th></th>\n",
       "      <th></th>\n",
       "    </tr>\n",
       "  </thead>\n",
       "  <tbody>\n",
       "    <tr>\n",
       "      <th rowspan=\"6\" valign=\"top\">setosa</th>\n",
       "      <th>accuracy</th>\n",
       "      <td>0.983333</td>\n",
       "      <td>0.983333</td>\n",
       "      <td>0.983333</td>\n",
       "    </tr>\n",
       "    <tr>\n",
       "      <th>f1</th>\n",
       "      <td>1.0</td>\n",
       "      <td>1.0</td>\n",
       "      <td>1.0</td>\n",
       "    </tr>\n",
       "    <tr>\n",
       "      <th>precision</th>\n",
       "      <td>1.0</td>\n",
       "      <td>1.0</td>\n",
       "      <td>1.0</td>\n",
       "    </tr>\n",
       "    <tr>\n",
       "      <th>recall</th>\n",
       "      <td>1.0</td>\n",
       "      <td>1.0</td>\n",
       "      <td>1.0</td>\n",
       "    </tr>\n",
       "    <tr>\n",
       "      <th>roc_auc(ovr)</th>\n",
       "      <td>1.0</td>\n",
       "      <td>1.0</td>\n",
       "      <td>1.0</td>\n",
       "    </tr>\n",
       "    <tr>\n",
       "      <th>n_obs</th>\n",
       "      <td>120</td>\n",
       "      <td>120</td>\n",
       "      <td>120</td>\n",
       "    </tr>\n",
       "    <tr>\n",
       "      <th rowspan=\"6\" valign=\"top\">versicolor</th>\n",
       "      <th>accuracy</th>\n",
       "      <td>0.983333</td>\n",
       "      <td>0.983333</td>\n",
       "      <td>0.983333</td>\n",
       "    </tr>\n",
       "    <tr>\n",
       "      <th>f1</th>\n",
       "      <td>0.97561</td>\n",
       "      <td>0.97561</td>\n",
       "      <td>0.975</td>\n",
       "    </tr>\n",
       "    <tr>\n",
       "      <th>precision</th>\n",
       "      <td>0.97561</td>\n",
       "      <td>0.97561</td>\n",
       "      <td>1.0</td>\n",
       "    </tr>\n",
       "    <tr>\n",
       "      <th>recall</th>\n",
       "      <td>0.97561</td>\n",
       "      <td>0.97561</td>\n",
       "      <td>0.95122</td>\n",
       "    </tr>\n",
       "    <tr>\n",
       "      <th>roc_auc(ovr)</th>\n",
       "      <td>0.998148</td>\n",
       "      <td>0.998148</td>\n",
       "      <td>1.0</td>\n",
       "    </tr>\n",
       "    <tr>\n",
       "      <th>n_obs</th>\n",
       "      <td>120</td>\n",
       "      <td>120</td>\n",
       "      <td>120</td>\n",
       "    </tr>\n",
       "    <tr>\n",
       "      <th rowspan=\"6\" valign=\"top\">virginica</th>\n",
       "      <th>accuracy</th>\n",
       "      <td>0.983333</td>\n",
       "      <td>0.983333</td>\n",
       "      <td>0.983333</td>\n",
       "    </tr>\n",
       "    <tr>\n",
       "      <th>f1</th>\n",
       "      <td>0.974359</td>\n",
       "      <td>0.974359</td>\n",
       "      <td>0.975</td>\n",
       "    </tr>\n",
       "    <tr>\n",
       "      <th>precision</th>\n",
       "      <td>0.974359</td>\n",
       "      <td>0.974359</td>\n",
       "      <td>0.95122</td>\n",
       "    </tr>\n",
       "    <tr>\n",
       "      <th>recall</th>\n",
       "      <td>0.974359</td>\n",
       "      <td>0.974359</td>\n",
       "      <td>1.0</td>\n",
       "    </tr>\n",
       "    <tr>\n",
       "      <th>roc_auc(ovr)</th>\n",
       "      <td>0.998101</td>\n",
       "      <td>0.998101</td>\n",
       "      <td>1.0</td>\n",
       "    </tr>\n",
       "    <tr>\n",
       "      <th>n_obs</th>\n",
       "      <td>120</td>\n",
       "      <td>120</td>\n",
       "      <td>120</td>\n",
       "    </tr>\n",
       "  </tbody>\n",
       "</table>\n",
       "</div>"
      ],
      "text/plain": [
       "                        LinearC(no_penalty) LinearC(l2)  \\\n",
       "Class      Statistic                                      \n",
       "setosa     accuracy                0.983333    0.983333   \n",
       "           f1                           1.0         1.0   \n",
       "           precision                    1.0         1.0   \n",
       "           recall                       1.0         1.0   \n",
       "           roc_auc(ovr)                 1.0         1.0   \n",
       "           n_obs                        120         120   \n",
       "versicolor accuracy                0.983333    0.983333   \n",
       "           f1                       0.97561     0.97561   \n",
       "           precision                0.97561     0.97561   \n",
       "           recall                   0.97561     0.97561   \n",
       "           roc_auc(ovr)            0.998148    0.998148   \n",
       "           n_obs                        120         120   \n",
       "virginica  accuracy                0.983333    0.983333   \n",
       "           f1                      0.974359    0.974359   \n",
       "           precision               0.974359    0.974359   \n",
       "           recall                  0.974359    0.974359   \n",
       "           roc_auc(ovr)            0.998101    0.998101   \n",
       "           n_obs                        120         120   \n",
       "\n",
       "                        TreeEnsembleC(adaboost)  \n",
       "Class      Statistic                             \n",
       "setosa     accuracy                    0.983333  \n",
       "           f1                               1.0  \n",
       "           precision                        1.0  \n",
       "           recall                           1.0  \n",
       "           roc_auc(ovr)                     1.0  \n",
       "           n_obs                            120  \n",
       "versicolor accuracy                    0.983333  \n",
       "           f1                             0.975  \n",
       "           precision                        1.0  \n",
       "           recall                       0.95122  \n",
       "           roc_auc(ovr)                     1.0  \n",
       "           n_obs                            120  \n",
       "virginica  accuracy                    0.983333  \n",
       "           f1                             0.975  \n",
       "           precision                    0.95122  \n",
       "           recall                           1.0  \n",
       "           roc_auc(ovr)                     1.0  \n",
       "           n_obs                            120  "
      ]
     },
     "execution_count": 22,
     "metadata": {},
     "output_type": "execute_result"
    }
   ],
   "source": [
    "report.metrics_by_class('train')"
   ]
  },
  {
   "cell_type": "code",
   "execution_count": null,
   "metadata": {},
   "outputs": [],
   "source": []
  }
 ],
 "metadata": {
  "kernelspec": {
   "display_name": "base",
   "language": "python",
   "name": "python3"
  },
  "language_info": {
   "codemirror_mode": {
    "name": "ipython",
    "version": 3
   },
   "file_extension": ".py",
   "mimetype": "text/x-python",
   "name": "python",
   "nbconvert_exporter": "python",
   "pygments_lexer": "ipython3",
   "version": "3.11.5"
  }
 },
 "nbformat": 4,
 "nbformat_minor": 2
}
