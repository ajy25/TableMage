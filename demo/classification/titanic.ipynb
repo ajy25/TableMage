{
 "cells": [
  {
   "cell_type": "code",
   "execution_count": 1,
   "metadata": {},
   "outputs": [],
   "source": [
    "import pandas as pd\n",
    "pd.set_option('display.max_columns', None)\n",
    "import sys\n",
    "sys.path.append('../../')\n",
    "\n",
    "titanic_df = pd.read_csv('titanic_data/data.csv')\n",
    "titanic_df['Survived'] = titanic_df['Survived'].map({0: 'Died', 1: 'Survived'})"
   ]
  },
  {
   "cell_type": "code",
   "execution_count": 2,
   "metadata": {},
   "outputs": [
    {
     "name": "stdout",
     "output_type": "stream",
     "text": [
      "\u001b[92mUPDT: \u001b[0mAnalyzer initialized for dataset \u001b[93m'Unnamed Dataset'\u001b[0m. Shapes of train, test \n",
      "      DataFrames: \u001b[93m(712, 12)\u001b[0m, \u001b[93m(179, 12)\u001b[0m. \n"
     ]
    }
   ],
   "source": [
    "import tabularmagic as tm\n",
    "\n",
    "\n",
    "analyzer = tm.Analyzer(titanic_df, test_size=0.2)"
   ]
  },
  {
   "cell_type": "code",
   "execution_count": 5,
   "metadata": {},
   "outputs": [
    {
     "data": {
      "image/png": "[encoded data removed]",
      "text/plain": [
       "<Figure size 500x500 with 1 Axes>"
      ]
     },
     "execution_count": 5,
     "metadata": {},
     "output_type": "execute_result"
    }
   ],
   "source": [
    "analyzer.eda().plot_distribution(\"Survived\")"
   ]
  },
  {
   "cell_type": "code",
   "execution_count": 3,
   "metadata": {},
   "outputs": [
    {
     "name": "stdout",
     "output_type": "stream",
     "text": [
      "\u001b[91mWARN: \u001b[0mTrain data: dropped 140 rows with missing values out of a total of 712 rows. \n",
      "\u001b[91mWARN: \u001b[0mTest data: dropped 37 rows with missing values out of a total of 179 rows. \n"
     ]
    },
    {
     "name": "stderr",
     "output_type": "stream",
     "text": [
      "/Users/andrewyang/anaconda3/lib/python3.11/site-packages/statsmodels/base/l1_solvers_common.py:71: ConvergenceWarning: QC check did not pass for 1 out of 4 parameters\n",
      "Try increasing solver accuracy or number of iterations, decreasing alpha, or switch solvers\n",
      "  warnings.warn(message, ConvergenceWarning)\n",
      "/Users/andrewyang/anaconda3/lib/python3.11/site-packages/statsmodels/base/l1_solvers_common.py:144: ConvergenceWarning: Could not trim params automatically due to failed QC check. Trimming using trim_mode == 'size' will still work.\n",
      "  warnings.warn(msg, ConvergenceWarning)\n"
     ]
    },
    {
     "data": {
      "text/html": [
       "<table class=\"simpletable\">\n",
       "<caption>Logit Regression Results</caption>\n",
       "<tr>\n",
       "  <th>Dep. Variable:</th>           <td>y</td>        <th>  No. Observations:  </th>  <td>   572</td>  \n",
       "</tr>\n",
       "<tr>\n",
       "  <th>Model:</th>                 <td>Logit</td>      <th>  Df Residuals:      </th>  <td>   568</td>  \n",
       "</tr>\n",
       "<tr>\n",
       "  <th>Method:</th>                 <td>MLE</td>       <th>  Df Model:          </th>  <td>     3</td>  \n",
       "</tr>\n",
       "<tr>\n",
       "  <th>Date:</th>            <td>Mon, 28 Oct 2024</td> <th>  Pseudo R-squ.:     </th>  <td>0.2545</td>  \n",
       "</tr>\n",
       "<tr>\n",
       "  <th>Time:</th>                <td>15:47:50</td>     <th>  Log-Likelihood:    </th> <td> -287.93</td> \n",
       "</tr>\n",
       "<tr>\n",
       "  <th>converged:</th>             <td>True</td>       <th>  LL-Null:           </th> <td> -386.22</td> \n",
       "</tr>\n",
       "<tr>\n",
       "  <th>Covariance Type:</th>     <td>nonrobust</td>    <th>  LLR p-value:       </th> <td>2.311e-42</td>\n",
       "</tr>\n",
       "</table>\n",
       "<table class=\"simpletable\">\n",
       "<tr>\n",
       "      <td></td>         <th>coef</th>     <th>std err</th>      <th>z</th>      <th>P>|z|</th>  <th>[0.025</th>    <th>0.975]</th>  \n",
       "</tr>\n",
       "<tr>\n",
       "  <th>const</th>     <td>    0.8865</td> <td>    0.264</td> <td>    3.356</td> <td> 0.001</td> <td>    0.369</td> <td>    1.404</td>\n",
       "</tr>\n",
       "<tr>\n",
       "  <th>male::Sex</th> <td>   -2.3823</td> <td>    0.213</td> <td>  -11.204</td> <td> 0.000</td> <td>   -2.799</td> <td>   -1.966</td>\n",
       "</tr>\n",
       "<tr>\n",
       "  <th>Age</th>       <td>   -0.0061</td> <td>    0.007</td> <td>   -0.850</td> <td> 0.395</td> <td>   -0.020</td> <td>    0.008</td>\n",
       "</tr>\n",
       "<tr>\n",
       "  <th>Fare</th>      <td>    0.0106</td> <td>    0.003</td> <td>    4.014</td> <td> 0.000</td> <td>    0.005</td> <td>    0.016</td>\n",
       "</tr>\n",
       "</table>"
      ],
      "text/latex": [
       "\\begin{center}\n",
       "\\begin{tabular}{lclc}\n",
       "\\toprule\n",
       "\\textbf{Dep. Variable:}   &        y         & \\textbf{  No. Observations:  } &      572    \\\\\n",
       "\\textbf{Model:}           &      Logit       & \\textbf{  Df Residuals:      } &      568    \\\\\n",
       "\\textbf{Method:}          &       MLE        & \\textbf{  Df Model:          } &        3    \\\\\n",
       "\\textbf{Date:}            & Mon, 28 Oct 2024 & \\textbf{  Pseudo R-squ.:     } &   0.2545    \\\\\n",
       "\\textbf{Time:}            &     15:47:50     & \\textbf{  Log-Likelihood:    } &   -287.93   \\\\\n",
       "\\textbf{converged:}       &       True       & \\textbf{  LL-Null:           } &   -386.22   \\\\\n",
       "\\textbf{Covariance Type:} &    nonrobust     & \\textbf{  LLR p-value:       } & 2.311e-42   \\\\\n",
       "\\bottomrule\n",
       "\\end{tabular}\n",
       "\\begin{tabular}{lcccccc}\n",
       "                   & \\textbf{coef} & \\textbf{std err} & \\textbf{z} & \\textbf{P$> |$z$|$} & \\textbf{[0.025} & \\textbf{0.975]}  \\\\\n",
       "\\midrule\n",
       "\\textbf{const}     &       0.8865  &        0.264     &     3.356  &         0.001        &        0.369    &        1.404     \\\\\n",
       "\\textbf{male::Sex} &      -2.3823  &        0.213     &   -11.204  &         0.000        &       -2.799    &       -1.966     \\\\\n",
       "\\textbf{Age}       &      -0.0061  &        0.007     &    -0.850  &         0.395        &       -0.020    &        0.008     \\\\\n",
       "\\textbf{Fare}      &       0.0106  &        0.003     &     4.014  &         0.000        &        0.005    &        0.016     \\\\\n",
       "\\bottomrule\n",
       "\\end{tabular}\n",
       "%\\caption{Logit Regression Results}\n",
       "\\end{center}"
      ],
      "text/plain": [
       "<class 'statsmodels.iolib.summary.Summary'>\n",
       "\"\"\"\n",
       "                           Logit Regression Results                           \n",
       "==============================================================================\n",
       "Dep. Variable:                      y   No. Observations:                  572\n",
       "Model:                          Logit   Df Residuals:                      568\n",
       "Method:                           MLE   Df Model:                            3\n",
       "Date:                Mon, 28 Oct 2024   Pseudo R-squ.:                  0.2545\n",
       "Time:                        15:47:50   Log-Likelihood:                -287.93\n",
       "converged:                       True   LL-Null:                       -386.22\n",
       "Covariance Type:            nonrobust   LLR p-value:                 2.311e-42\n",
       "==============================================================================\n",
       "                 coef    std err          z      P>|z|      [0.025      0.975]\n",
       "------------------------------------------------------------------------------\n",
       "const          0.8865      0.264      3.356      0.001       0.369       1.404\n",
       "male::Sex     -2.3823      0.213    -11.204      0.000      -2.799      -1.966\n",
       "Age           -0.0061      0.007     -0.850      0.395      -0.020       0.008\n",
       "Fare           0.0106      0.003      4.014      0.000       0.005       0.016\n",
       "==============================================================================\n",
       "\"\"\""
      ]
     },
     "execution_count": 3,
     "metadata": {},
     "output_type": "execute_result"
    }
   ],
   "source": [
    "output = analyzer.logit(target=\"Survived\", predictors=[\"Age\", \"Sex\", \"Fare\"], alpha=0.1)\n",
    "output.statsmodels_summary()"
   ]
  },
  {
   "cell_type": "code",
   "execution_count": 10,
   "metadata": {},
   "outputs": [
    {
     "name": "stdout",
     "output_type": "stream",
     "text": [
      "\u001b[91mWARN: \u001b[0mTrain data: dropped 140 rows with missing values out of a total of 712 rows. \n",
      "\u001b[91mWARN: \u001b[0mTest data: dropped 37 rows with missing values out of a total of 179 rows. \n"
     ]
    },
    {
     "name": "stderr",
     "output_type": "stream",
     "text": [
      "/Users/andrewyang/anaconda3/lib/python3.11/site-packages/statsmodels/base/l1_solvers_common.py:71: ConvergenceWarning: QC check did not pass for 1 out of 4 parameters\n",
      "Try increasing solver accuracy or number of iterations, decreasing alpha, or switch solvers\n",
      "  warnings.warn(message, ConvergenceWarning)\n",
      "/Users/andrewyang/anaconda3/lib/python3.11/site-packages/statsmodels/base/l1_solvers_common.py:144: ConvergenceWarning: Could not trim params automatically due to failed QC check. Trimming using trim_mode == 'size' will still work.\n",
      "  warnings.warn(msg, ConvergenceWarning)\n",
      "/Users/andrewyang/anaconda3/lib/python3.11/site-packages/statsmodels/base/l1_solvers_common.py:71: ConvergenceWarning: QC check did not pass for 1 out of 3 parameters\n",
      "Try increasing solver accuracy or number of iterations, decreasing alpha, or switch solvers\n",
      "  warnings.warn(message, ConvergenceWarning)\n",
      "/Users/andrewyang/anaconda3/lib/python3.11/site-packages/statsmodels/base/l1_solvers_common.py:144: ConvergenceWarning: Could not trim params automatically due to failed QC check. Trimming using trim_mode == 'size' will still work.\n",
      "  warnings.warn(msg, ConvergenceWarning)\n",
      "/Users/andrewyang/anaconda3/lib/python3.11/site-packages/statsmodels/base/l1_solvers_common.py:71: ConvergenceWarning: QC check did not pass for 1 out of 3 parameters\n",
      "Try increasing solver accuracy or number of iterations, decreasing alpha, or switch solvers\n",
      "  warnings.warn(message, ConvergenceWarning)\n",
      "/Users/andrewyang/anaconda3/lib/python3.11/site-packages/statsmodels/base/l1_solvers_common.py:144: ConvergenceWarning: Could not trim params automatically due to failed QC check. Trimming using trim_mode == 'size' will still work.\n",
      "  warnings.warn(msg, ConvergenceWarning)\n",
      "/Users/andrewyang/anaconda3/lib/python3.11/site-packages/statsmodels/base/l1_solvers_common.py:71: ConvergenceWarning: QC check did not pass for 1 out of 2 parameters\n",
      "Try increasing solver accuracy or number of iterations, decreasing alpha, or switch solvers\n",
      "  warnings.warn(message, ConvergenceWarning)\n",
      "/Users/andrewyang/anaconda3/lib/python3.11/site-packages/statsmodels/base/l1_solvers_common.py:144: ConvergenceWarning: Could not trim params automatically due to failed QC check. Trimming using trim_mode == 'size' will still work.\n",
      "  warnings.warn(msg, ConvergenceWarning)\n"
     ]
    },
    {
     "data": {
      "text/html": [
       "<table class=\"simpletable\">\n",
       "<caption>Logit Regression Results</caption>\n",
       "<tr>\n",
       "  <th>Dep. Variable:</th>           <td>y</td>        <th>  No. Observations:  </th>  <td>   572</td>  \n",
       "</tr>\n",
       "<tr>\n",
       "  <th>Model:</th>                 <td>Logit</td>      <th>  Df Residuals:      </th>  <td>   569</td>  \n",
       "</tr>\n",
       "<tr>\n",
       "  <th>Method:</th>                 <td>MLE</td>       <th>  Df Model:          </th>  <td>     2</td>  \n",
       "</tr>\n",
       "<tr>\n",
       "  <th>Date:</th>            <td>Sat, 28 Sep 2024</td> <th>  Pseudo R-squ.:     </th>  <td>0.2535</td>  \n",
       "</tr>\n",
       "<tr>\n",
       "  <th>Time:</th>                <td>01:54:08</td>     <th>  Log-Likelihood:    </th> <td> -288.31</td> \n",
       "</tr>\n",
       "<tr>\n",
       "  <th>converged:</th>             <td>True</td>       <th>  LL-Null:           </th> <td> -386.22</td> \n",
       "</tr>\n",
       "<tr>\n",
       "  <th>Covariance Type:</th>        <td>HC3</td>       <th>  LLR p-value:       </th> <td>2.997e-43</td>\n",
       "</tr>\n",
       "</table>\n",
       "<table class=\"simpletable\">\n",
       "<tr>\n",
       "      <td></td>         <th>coef</th>     <th>std err</th>      <th>z</th>      <th>P>|z|</th>  <th>[0.025</th>    <th>0.975]</th>  \n",
       "</tr>\n",
       "<tr>\n",
       "  <th>const</th>     <td>    0.7345</td> <td>    0.194</td> <td>    3.781</td> <td> 0.000</td> <td>    0.354</td> <td>    1.115</td>\n",
       "</tr>\n",
       "<tr>\n",
       "  <th>male::Sex</th> <td>   -2.4085</td> <td>    0.212</td> <td>  -11.358</td> <td> 0.000</td> <td>   -2.824</td> <td>   -1.993</td>\n",
       "</tr>\n",
       "<tr>\n",
       "  <th>Fare</th>      <td>    0.0103</td> <td>    0.003</td> <td>    3.551</td> <td> 0.000</td> <td>    0.005</td> <td>    0.016</td>\n",
       "</tr>\n",
       "</table>"
      ],
      "text/latex": [
       "\\begin{center}\n",
       "\\begin{tabular}{lclc}\n",
       "\\toprule\n",
       "\\textbf{Dep. Variable:}   &        y         & \\textbf{  No. Observations:  } &      572    \\\\\n",
       "\\textbf{Model:}           &      Logit       & \\textbf{  Df Residuals:      } &      569    \\\\\n",
       "\\textbf{Method:}          &       MLE        & \\textbf{  Df Model:          } &        2    \\\\\n",
       "\\textbf{Date:}            & Sat, 28 Sep 2024 & \\textbf{  Pseudo R-squ.:     } &   0.2535    \\\\\n",
       "\\textbf{Time:}            &     01:54:08     & \\textbf{  Log-Likelihood:    } &   -288.31   \\\\\n",
       "\\textbf{converged:}       &       True       & \\textbf{  LL-Null:           } &   -386.22   \\\\\n",
       "\\textbf{Covariance Type:} &       HC3        & \\textbf{  LLR p-value:       } & 2.997e-43   \\\\\n",
       "\\bottomrule\n",
       "\\end{tabular}\n",
       "\\begin{tabular}{lcccccc}\n",
       "                   & \\textbf{coef} & \\textbf{std err} & \\textbf{z} & \\textbf{P$> |$z$|$} & \\textbf{[0.025} & \\textbf{0.975]}  \\\\\n",
       "\\midrule\n",
       "\\textbf{const}     &       0.7345  &        0.194     &     3.781  &         0.000        &        0.354    &        1.115     \\\\\n",
       "\\textbf{male::Sex} &      -2.4085  &        0.212     &   -11.358  &         0.000        &       -2.824    &       -1.993     \\\\\n",
       "\\textbf{Fare}      &       0.0103  &        0.003     &     3.551  &         0.000        &        0.005    &        0.016     \\\\\n",
       "\\bottomrule\n",
       "\\end{tabular}\n",
       "%\\caption{Logit Regression Results}\n",
       "\\end{center}"
      ],
      "text/plain": [
       "<class 'statsmodels.iolib.summary.Summary'>\n",
       "\"\"\"\n",
       "                           Logit Regression Results                           \n",
       "==============================================================================\n",
       "Dep. Variable:                      y   No. Observations:                  572\n",
       "Model:                          Logit   Df Residuals:                      569\n",
       "Method:                           MLE   Df Model:                            2\n",
       "Date:                Sat, 28 Sep 2024   Pseudo R-squ.:                  0.2535\n",
       "Time:                        01:54:08   Log-Likelihood:                -288.31\n",
       "converged:                       True   LL-Null:                       -386.22\n",
       "Covariance Type:                  HC3   LLR p-value:                 2.997e-43\n",
       "==============================================================================\n",
       "                 coef    std err          z      P>|z|      [0.025      0.975]\n",
       "------------------------------------------------------------------------------\n",
       "const          0.7345      0.194      3.781      0.000       0.354       1.115\n",
       "male::Sex     -2.4085      0.212    -11.358      0.000      -2.824      -1.993\n",
       "Fare           0.0103      0.003      3.551      0.000       0.005       0.016\n",
       "==============================================================================\n",
       "\"\"\""
      ]
     },
     "execution_count": 10,
     "metadata": {},
     "output_type": "execute_result"
    }
   ],
   "source": [
    "output.step().statsmodels_summary()"
   ]
  },
  {
   "cell_type": "code",
   "execution_count": 8,
   "metadata": {},
   "outputs": [
    {
     "name": "stdout",
     "output_type": "stream",
     "text": [
      "\u001b[92mINFO: \u001b[0mEvaluating model \u001b[94m'LinearC(no_penalty)'\u001b[0m. \n",
      "\u001b[91mWARN: \u001b[0mTrain data: dropped 140 rows with missing values out of a total of 712 rows. \n",
      "\u001b[93mPROG: \u001b[0mFitting \u001b[94m'LinearC(no_penalty)'\u001b[0m. Search method: GridSearchCV (1 fits per fold, 5 \n",
      "      total fits).  \n",
      "\u001b[93mPROG: \u001b[0mOptimal threshold set for \u001b[94m'LinearC(no_penalty)'\u001b[0m via F1 score. \n",
      "\u001b[91mWARN: \u001b[0mTest data: dropped 37 rows with missing values out of a total of 179 rows. \n",
      "\u001b[92mINFO: \u001b[0mSuccessfully evaluated model \u001b[94m'LinearC(no_penalty)'\u001b[0m. \n"
     ]
    },
    {
     "data": {
      "text/html": [
       "<div>\n",
       "<style scoped>\n",
       "    .dataframe tbody tr th:only-of-type {\n",
       "        vertical-align: middle;\n",
       "    }\n",
       "\n",
       "    .dataframe tbody tr th {\n",
       "        vertical-align: top;\n",
       "    }\n",
       "\n",
       "    .dataframe thead th {\n",
       "        text-align: right;\n",
       "    }\n",
       "</style>\n",
       "<table border=\"1\" class=\"dataframe\">\n",
       "  <thead>\n",
       "    <tr style=\"text-align: right;\">\n",
       "      <th></th>\n",
       "      <th>LinearC(no_penalty)</th>\n",
       "    </tr>\n",
       "    <tr>\n",
       "      <th>Statistic</th>\n",
       "      <th></th>\n",
       "    </tr>\n",
       "  </thead>\n",
       "  <tbody>\n",
       "    <tr>\n",
       "      <th>accuracy</th>\n",
       "      <td>0.760563</td>\n",
       "    </tr>\n",
       "    <tr>\n",
       "      <th>f1</th>\n",
       "      <td>0.711864</td>\n",
       "    </tr>\n",
       "    <tr>\n",
       "      <th>precision</th>\n",
       "      <td>0.7</td>\n",
       "    </tr>\n",
       "    <tr>\n",
       "      <th>recall</th>\n",
       "      <td>0.724138</td>\n",
       "    </tr>\n",
       "    <tr>\n",
       "      <th>roc_auc</th>\n",
       "      <td>0.862274</td>\n",
       "    </tr>\n",
       "    <tr>\n",
       "      <th>n_obs</th>\n",
       "      <td>142</td>\n",
       "    </tr>\n",
       "  </tbody>\n",
       "</table>\n",
       "</div>"
      ],
      "text/plain": [
       "          LinearC(no_penalty)\n",
       "Statistic                    \n",
       "accuracy             0.760563\n",
       "f1                   0.711864\n",
       "precision                 0.7\n",
       "recall               0.724138\n",
       "roc_auc              0.862274\n",
       "n_obs                     142"
      ]
     },
     "execution_count": 8,
     "metadata": {},
     "output_type": "execute_result"
    }
   ],
   "source": [
    "analyzer.classify(\n",
    "    target=\"Survived\", \n",
    "    predictors=[\"Age\", \"Sex\", \"Fare\"],\n",
    "    models=[\n",
    "        tm.ml.LinearC('no_penalty')\n",
    "    ]\n",
    ").metrics('test')"
   ]
  },
  {
   "cell_type": "code",
   "execution_count": 5,
   "metadata": {},
   "outputs": [
    {
     "name": "stdout",
     "output_type": "stream",
     "text": [
      "\u001b[91mWARN: \u001b[0mTrain data: dropped 140 rows with missing values out of a total of 712 rows. \n",
      "\u001b[91mWARN: \u001b[0mTest data: dropped 37 rows with missing values out of a total of 179 rows. \n",
      "\u001b[91mWARN: \u001b[0mTrain data: dropped 140 rows with missing values out of a total of 712 rows. \n",
      "\u001b[91mWARN: \u001b[0mTest data: dropped 37 rows with missing values out of a total of 179 rows. \n"
     ]
    }
   ],
   "source": [
    "output = analyzer.glm(\n",
    "    family='binomial',\n",
    "    target='Survived',\n",
    "    predictors=[\n",
    "        'Pclass',\n",
    "        'Sex',\n",
    "        'Age',\n",
    "        'Fare',\n",
    "        'Parch'\n",
    "    ]\n",
    ")"
   ]
  },
  {
   "cell_type": "code",
   "execution_count": 7,
   "metadata": {},
   "outputs": [
    {
     "name": "stdout",
     "output_type": "stream",
     "text": [
      "\u001b[91mWARN: \u001b[0mTrain data: dropped 140 rows with missing values out of a total of 712 rows. \n",
      "\u001b[91mWARN: \u001b[0mTrain data: dropped 140 rows with missing values out of a total of 712 rows. \n",
      "\u001b[91mWARN: \u001b[0mTrain data: dropped 140 rows with missing values out of a total of 712 rows. \n",
      "\u001b[91mWARN: \u001b[0mTrain data: dropped 140 rows with missing values out of a total of 712 rows. \n",
      "\u001b[91mWARN: \u001b[0mTrain data: dropped 140 rows with missing values out of a total of 712 rows. \n",
      "\u001b[91mWARN: \u001b[0mTrain data: dropped 140 rows with missing values out of a total of 712 rows. \n",
      "\u001b[91mWARN: \u001b[0mTrain data: dropped 140 rows with missing values out of a total of 712 rows. \n",
      "\u001b[91mWARN: \u001b[0mTrain data: dropped 140 rows with missing values out of a total of 712 rows. \n",
      "\u001b[91mWARN: \u001b[0mTrain data: dropped 140 rows with missing values out of a total of 712 rows. \n",
      "\u001b[91mWARN: \u001b[0mTrain data: dropped 140 rows with missing values out of a total of 712 rows. \n",
      "\u001b[91mWARN: \u001b[0mTrain data: dropped 140 rows with missing values out of a total of 712 rows. \n",
      "\u001b[91mWARN: \u001b[0mTrain data: dropped 140 rows with missing values out of a total of 712 rows. \n",
      "\u001b[91mWARN: \u001b[0mTrain data: dropped 140 rows with missing values out of a total of 712 rows. \n",
      "\u001b[91mWARN: \u001b[0mTrain data: dropped 140 rows with missing values out of a total of 712 rows. \n",
      "\u001b[91mWARN: \u001b[0mTest data: dropped 37 rows with missing values out of a total of 179 rows. \n",
      "\u001b[91mWARN: \u001b[0mTrain data: dropped 140 rows with missing values out of a total of 712 rows. \n",
      "\u001b[91mWARN: \u001b[0mTest data: dropped 37 rows with missing values out of a total of 179 rows. \n"
     ]
    },
    {
     "data": {
      "text/html": [
       "<table class=\"simpletable\">\n",
       "<caption>Generalized Linear Model Regression Results</caption>\n",
       "<tr>\n",
       "  <th>Dep. Variable:</th>           <td>y</td>        <th>  No. Observations:  </th>  <td>   572</td> \n",
       "</tr>\n",
       "<tr>\n",
       "  <th>Model:</th>                  <td>GLM</td>       <th>  Df Residuals:      </th>  <td>   568</td> \n",
       "</tr>\n",
       "<tr>\n",
       "  <th>Model Family:</th>        <td>Binomial</td>     <th>  Df Model:          </th>  <td>     3</td> \n",
       "</tr>\n",
       "<tr>\n",
       "  <th>Link Function:</th>         <td>Logit</td>      <th>  Scale:             </th> <td>  1.0000</td>\n",
       "</tr>\n",
       "<tr>\n",
       "  <th>Method:</th>                <td>IRLS</td>       <th>  Log-Likelihood:    </th> <td> -267.31</td>\n",
       "</tr>\n",
       "<tr>\n",
       "  <th>Date:</th>            <td>Sat, 21 Sep 2024</td> <th>  Deviance:          </th> <td>  534.62</td>\n",
       "</tr>\n",
       "<tr>\n",
       "  <th>Time:</th>                <td>21:10:53</td>     <th>  Pearson chi2:      </th>  <td>  595.</td> \n",
       "</tr>\n",
       "<tr>\n",
       "  <th>No. Iterations:</th>          <td>5</td>        <th>  Pseudo R-squ. (CS):</th>  <td>0.3402</td> \n",
       "</tr>\n",
       "<tr>\n",
       "  <th>Covariance Type:</th>        <td>HC3</td>       <th>                     </th>     <td> </td>   \n",
       "</tr>\n",
       "</table>\n",
       "<table class=\"simpletable\">\n",
       "<tr>\n",
       "      <td></td>         <th>coef</th>     <th>std err</th>      <th>z</th>      <th>P>|z|</th>  <th>[0.025</th>    <th>0.975]</th>  \n",
       "</tr>\n",
       "<tr>\n",
       "  <th>const</th>     <td>    4.4386</td> <td>    0.544</td> <td>    8.161</td> <td> 0.000</td> <td>    3.373</td> <td>    5.505</td>\n",
       "</tr>\n",
       "<tr>\n",
       "  <th>male::Sex</th> <td>   -2.4835</td> <td>    0.219</td> <td>  -11.327</td> <td> 0.000</td> <td>   -2.913</td> <td>   -2.054</td>\n",
       "</tr>\n",
       "<tr>\n",
       "  <th>Pclass</th>    <td>   -1.1242</td> <td>    0.155</td> <td>   -7.239</td> <td> 0.000</td> <td>   -1.429</td> <td>   -0.820</td>\n",
       "</tr>\n",
       "<tr>\n",
       "  <th>Age</th>       <td>   -0.0281</td> <td>    0.009</td> <td>   -3.246</td> <td> 0.001</td> <td>   -0.045</td> <td>   -0.011</td>\n",
       "</tr>\n",
       "</table>"
      ],
      "text/latex": [
       "\\begin{center}\n",
       "\\begin{tabular}{lclc}\n",
       "\\toprule\n",
       "\\textbf{Dep. Variable:}   &        y         & \\textbf{  No. Observations:  } &      572    \\\\\n",
       "\\textbf{Model:}           &       GLM        & \\textbf{  Df Residuals:      } &      568    \\\\\n",
       "\\textbf{Model Family:}    &     Binomial     & \\textbf{  Df Model:          } &        3    \\\\\n",
       "\\textbf{Link Function:}   &      Logit       & \\textbf{  Scale:             } &    1.0000   \\\\\n",
       "\\textbf{Method:}          &       IRLS       & \\textbf{  Log-Likelihood:    } &   -267.31   \\\\\n",
       "\\textbf{Date:}            & Sat, 21 Sep 2024 & \\textbf{  Deviance:          } &    534.62   \\\\\n",
       "\\textbf{Time:}            &     21:10:53     & \\textbf{  Pearson chi2:      } &     595.    \\\\\n",
       "\\textbf{No. Iterations:}  &        5         & \\textbf{  Pseudo R-squ. (CS):} &   0.3402    \\\\\n",
       "\\textbf{Covariance Type:} &       HC3        & \\textbf{                     } &             \\\\\n",
       "\\bottomrule\n",
       "\\end{tabular}\n",
       "\\begin{tabular}{lcccccc}\n",
       "                   & \\textbf{coef} & \\textbf{std err} & \\textbf{z} & \\textbf{P$> |$z$|$} & \\textbf{[0.025} & \\textbf{0.975]}  \\\\\n",
       "\\midrule\n",
       "\\textbf{const}     &       4.4386  &        0.544     &     8.161  &         0.000        &        3.373    &        5.505     \\\\\n",
       "\\textbf{male::Sex} &      -2.4835  &        0.219     &   -11.327  &         0.000        &       -2.913    &       -2.054     \\\\\n",
       "\\textbf{Pclass}    &      -1.1242  &        0.155     &    -7.239  &         0.000        &       -1.429    &       -0.820     \\\\\n",
       "\\textbf{Age}       &      -0.0281  &        0.009     &    -3.246  &         0.001        &       -0.045    &       -0.011     \\\\\n",
       "\\bottomrule\n",
       "\\end{tabular}\n",
       "%\\caption{Generalized Linear Model Regression Results}\n",
       "\\end{center}"
      ],
      "text/plain": [
       "<class 'statsmodels.iolib.summary.Summary'>\n",
       "\"\"\"\n",
       "                 Generalized Linear Model Regression Results                  \n",
       "==============================================================================\n",
       "Dep. Variable:                      y   No. Observations:                  572\n",
       "Model:                            GLM   Df Residuals:                      568\n",
       "Model Family:                Binomial   Df Model:                            3\n",
       "Link Function:                  Logit   Scale:                          1.0000\n",
       "Method:                          IRLS   Log-Likelihood:                -267.31\n",
       "Date:                Sat, 21 Sep 2024   Deviance:                       534.62\n",
       "Time:                        21:10:53   Pearson chi2:                     595.\n",
       "No. Iterations:                     5   Pseudo R-squ. (CS):             0.3402\n",
       "Covariance Type:                  HC3                                         \n",
       "==============================================================================\n",
       "                 coef    std err          z      P>|z|      [0.025      0.975]\n",
       "------------------------------------------------------------------------------\n",
       "const          4.4386      0.544      8.161      0.000       3.373       5.505\n",
       "male::Sex     -2.4835      0.219    -11.327      0.000      -2.913      -2.054\n",
       "Pclass        -1.1242      0.155     -7.239      0.000      -1.429      -0.820\n",
       "Age           -0.0281      0.009     -3.246      0.001      -0.045      -0.011\n",
       "==============================================================================\n",
       "\"\"\""
      ]
     },
     "execution_count": 7,
     "metadata": {},
     "output_type": "execute_result"
    }
   ],
   "source": [
    "output.step().statsmodels_summary()"
   ]
  },
  {
   "cell_type": "code",
   "execution_count": 8,
   "metadata": {},
   "outputs": [
    {
     "name": "stdout",
     "output_type": "stream",
     "text": [
      "\u001b[92mINFO: \u001b[0mWorking DataFrames reset to original DataFrames. Shapes of train, test DataFrames: \n",
      "      \u001b[93m\u001b[93m(712, 12)\u001b[0m\u001b[0m, \u001b[93m\u001b[93m(179, 12)\u001b[0m\u001b[0m. \n",
      "\u001b[92mINFO: \u001b[0mDropped variables \u001b[95m'Cabin'\u001b[0m with at least 50.0% of values missing. \n",
      "\u001b[92mINFO: \u001b[0mEvaluating model \u001b[94m'TreesC(random_forest)'\u001b[0m. \n",
      "\u001b[91mWARN: \u001b[0mTrain data: dropped 142 rows with missing values out of a total of 712 rows. \n",
      "\u001b[93mPROG: \u001b[0mFitting \u001b[94m'TreesC(random_forest)'\u001b[0m. Search method: OptunaSearchCV (100 trials, 500 \n",
      "      total fits).  \n",
      "\u001b[93mPROG: \u001b[0mOptimal threshold set for \u001b[94m'TreesC(random_forest)'\u001b[0m via F1 score. \n",
      "\u001b[91mWARN: \u001b[0mTest data: dropped 37 rows with missing values out of a total of 179 rows. \n",
      "\u001b[92mINFO: \u001b[0mSuccessfully evaluated model \u001b[94m'TreesC(random_forest)'\u001b[0m. \n",
      "\u001b[92mINFO: \u001b[0mEvaluating model \u001b[94m'LinearC(l2)'\u001b[0m. \n",
      "\u001b[91mWARN: \u001b[0mTrain data: dropped 142 rows with missing values out of a total of 712 rows. \n",
      "\u001b[93mPROG: \u001b[0mFitting \u001b[94m'LinearC(l2)'\u001b[0m. Search method: OptunaSearchCV (100 trials, 500 total fits). \n",
      "       \n",
      "\u001b[93mPROG: \u001b[0mOptimal threshold set for \u001b[94m'LinearC(l2)'\u001b[0m via F1 score. \n",
      "\u001b[91mWARN: \u001b[0mTest data: dropped 37 rows with missing values out of a total of 179 rows. \n",
      "\u001b[92mINFO: \u001b[0mSuccessfully evaluated model \u001b[94m'LinearC(l2)'\u001b[0m. \n"
     ]
    }
   ],
   "source": [
    "analyzer.load_data_checkpoint()\n",
    "analyzer.drop_highly_missing_vars()\n",
    "report = analyzer.classify(\n",
    "    target='Survived',\n",
    "    models=[\n",
    "        tm.ml.TreesC(type='random_forest'),\n",
    "        tm.ml.LinearC(type='l2')\n",
    "    ]\n",
    ")"
   ]
  },
  {
   "cell_type": "code",
   "execution_count": 9,
   "metadata": {},
   "outputs": [
    {
     "data": {
      "text/plain": [
       "========================================================================================\n",
       "\u001b[1mML Classification Report\u001b[0m\n",
       "----------------------------------------------------------------------------------------\n",
       "\u001b[1mTarget variable:\u001b[0m\n",
       "  \u001b[95m'Survived'\u001b[0m \n",
       "                                                                                        \n",
       "\u001b[1mPredictor variables:\u001b[0m\n",
       "  \u001b[95m'PassengerId', \u001b[0m\u001b[95m'Pclass', \u001b[0m\u001b[95m'Name', \u001b[0m\u001b[95m'Sex', \u001b[0m\u001b[95m'Age', \u001b[0m\u001b[95m'SibSp', \u001b[0m\u001b[95m'Parch', \u001b[0m\u001b[95m'Ticket', \u001b[0m\u001b[95m'Fare', \n",
       "  \u001b[0m\u001b[95m'Embarked'\u001b[0m \n",
       "                                                                                        \n",
       "\u001b[1mModels evaluated:\u001b[0m\n",
       "  \u001b[94m'TreesC(random_forest)', \u001b[0m\u001b[94m'LinearC(l2)'\u001b[0m \n",
       "                                                                                        \n",
       "\u001b[1mFeature selectors:\u001b[0m\n",
       "  \u001b[93mNone\u001b[0m \n",
       "----------------------------------------------------------------------------------------\n",
       "\u001b[1mBest models:\u001b[0m\n",
       "  1. \u001b[94m'TreesC(random_forest)'\u001b[0m                 Test AUROC: \u001b[93m0.87213\u001b[0m \n",
       "  2. \u001b[94m'LinearC(l2)'\u001b[0m                           Test AUROC: \u001b[93m0.83744\u001b[0m \n",
       "========================================================================================"
      ]
     },
     "execution_count": 9,
     "metadata": {},
     "output_type": "execute_result"
    }
   ],
   "source": [
    "report"
   ]
  },
  {
   "cell_type": "code",
   "execution_count": 11,
   "metadata": {},
   "outputs": [
    {
     "data": {
      "text/html": [
       "<div>\n",
       "<style scoped>\n",
       "    .dataframe tbody tr th:only-of-type {\n",
       "        vertical-align: middle;\n",
       "    }\n",
       "\n",
       "    .dataframe tbody tr th {\n",
       "        vertical-align: top;\n",
       "    }\n",
       "\n",
       "    .dataframe thead th {\n",
       "        text-align: right;\n",
       "    }\n",
       "</style>\n",
       "<table border=\"1\" class=\"dataframe\">\n",
       "  <thead>\n",
       "    <tr style=\"text-align: right;\">\n",
       "      <th></th>\n",
       "      <th>TreesC(random_forest)</th>\n",
       "      <th>LinearC(l2)</th>\n",
       "    </tr>\n",
       "    <tr>\n",
       "      <th>Statistic</th>\n",
       "      <th></th>\n",
       "      <th></th>\n",
       "    </tr>\n",
       "  </thead>\n",
       "  <tbody>\n",
       "    <tr>\n",
       "      <th>accuracy</th>\n",
       "      <td>0.78169</td>\n",
       "      <td>0.816901</td>\n",
       "    </tr>\n",
       "    <tr>\n",
       "      <th>f1</th>\n",
       "      <td>0.725664</td>\n",
       "      <td>0.77193</td>\n",
       "    </tr>\n",
       "    <tr>\n",
       "      <th>precision</th>\n",
       "      <td>0.745455</td>\n",
       "      <td>0.785714</td>\n",
       "    </tr>\n",
       "    <tr>\n",
       "      <th>recall</th>\n",
       "      <td>0.706897</td>\n",
       "      <td>0.758621</td>\n",
       "    </tr>\n",
       "    <tr>\n",
       "      <th>roc_auc</th>\n",
       "      <td>0.872126</td>\n",
       "      <td>0.837438</td>\n",
       "    </tr>\n",
       "    <tr>\n",
       "      <th>n_obs</th>\n",
       "      <td>142</td>\n",
       "      <td>142</td>\n",
       "    </tr>\n",
       "  </tbody>\n",
       "</table>\n",
       "</div>"
      ],
      "text/plain": [
       "          TreesC(random_forest) LinearC(l2)\n",
       "Statistic                                  \n",
       "accuracy                0.78169    0.816901\n",
       "f1                     0.725664     0.77193\n",
       "precision              0.745455    0.785714\n",
       "recall                 0.706897    0.758621\n",
       "roc_auc                0.872126    0.837438\n",
       "n_obs                       142         142"
      ]
     },
     "execution_count": 11,
     "metadata": {},
     "output_type": "execute_result"
    }
   ],
   "source": [
    "report.metrics('test')"
   ]
  },
  {
   "cell_type": "code",
   "execution_count": 14,
   "metadata": {},
   "outputs": [
    {
     "data": {
      "image/png": "[encoded data removed]",
      "text/plain": [
       "<Figure size 500x500 with 1 Axes>"
      ]
     },
     "execution_count": 14,
     "metadata": {},
     "output_type": "execute_result"
    }
   ],
   "source": [
    "report.plot_confusion_matrix('TreesC(random_forest)', 'test')"
   ]
  },
  {
   "cell_type": "code",
   "execution_count": null,
   "metadata": {},
   "outputs": [],
   "source": []
  }
 ],
 "metadata": {
  "kernelspec": {
   "display_name": "base",
   "language": "python",
   "name": "python3"
  },
  "language_info": {
   "codemirror_mode": {
    "name": "ipython",
    "version": 3
   },
   "file_extension": ".py",
   "mimetype": "text/x-python",
   "name": "python",
   "nbconvert_exporter": "python",
   "pygments_lexer": "ipython3",
   "version": "3.11.5"
  }
 },
 "nbformat": 4,
 "nbformat_minor": 2
}
