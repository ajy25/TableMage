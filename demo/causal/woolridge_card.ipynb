{
 "cells": [
  {
   "cell_type": "code",
   "execution_count": 1,
   "metadata": {},
   "outputs": [
    {
     "name": "stderr",
     "output_type": "stream",
     "text": [
      "/Users/andrewyang/anaconda3/envs/tm/lib/python3.12/site-packages/tqdm/auto.py:21: TqdmWarning: IProgress not found. Please update jupyter and ipywidgets. See https://ipywidgets.readthedocs.io/en/stable/user_install.html\n",
      "  from .autonotebook import tqdm as notebook_tqdm\n"
     ]
    }
   ],
   "source": [
    "import pandas as pd\n",
    "import sys\n",
    "sys.path.append(\"../..\")\n",
    "import tabularmagic as tm\n",
    "\n",
    "\n",
    "data = pd.read_csv(\"data/card.csv\")\n",
    "data[\"educ_binary\"] = data[\"educ\"].apply(lambda x: 1 if x >= 13 else 0)\n"
   ]
  },
  {
   "cell_type": "code",
   "execution_count": 2,
   "metadata": {},
   "outputs": [
    {
     "name": "stdout",
     "output_type": "stream",
     "text": [
      "\u001b[91mWARN: \u001b[0mNo test DataFrame provided. The test DataFrame will be treated as a train \n",
      "      DataFrame copy. \n",
      "\u001b[92mINFO: \u001b[0mAnalyzer initialized for dataset \u001b[93m'Unnamed Dataset'\u001b[0m. Shapes of train, test \n",
      "      DataFrames: \u001b[93m(3010, 35)\u001b[0m, \u001b[93m(3010, 35)\u001b[0m. \n"
     ]
    }
   ],
   "source": [
    "analyzer = tm.Analyzer(data)"
   ]
  },
  {
   "cell_type": "code",
   "execution_count": 3,
   "metadata": {},
   "outputs": [
    {
     "data": {
      "text/html": [
       "<div>\n",
       "<style scoped>\n",
       "    .dataframe tbody tr th:only-of-type {\n",
       "        vertical-align: middle;\n",
       "    }\n",
       "\n",
       "    .dataframe tbody tr th {\n",
       "        vertical-align: top;\n",
       "    }\n",
       "\n",
       "    .dataframe thead th {\n",
       "        text-align: right;\n",
       "    }\n",
       "</style>\n",
       "<table border=\"1\" class=\"dataframe\">\n",
       "  <thead>\n",
       "    <tr style=\"text-align: right;\">\n",
       "      <th></th>\n",
       "      <th>id</th>\n",
       "      <th>nearc2</th>\n",
       "      <th>nearc4</th>\n",
       "      <th>educ</th>\n",
       "      <th>age</th>\n",
       "      <th>fatheduc</th>\n",
       "      <th>motheduc</th>\n",
       "      <th>weight</th>\n",
       "      <th>momdad14</th>\n",
       "      <th>sinmom14</th>\n",
       "      <th>...</th>\n",
       "      <th>wage</th>\n",
       "      <th>enroll</th>\n",
       "      <th>KWW</th>\n",
       "      <th>IQ</th>\n",
       "      <th>married</th>\n",
       "      <th>libcrd14</th>\n",
       "      <th>exper</th>\n",
       "      <th>lwage</th>\n",
       "      <th>expersq</th>\n",
       "      <th>educ_binary</th>\n",
       "    </tr>\n",
       "  </thead>\n",
       "  <tbody>\n",
       "    <tr>\n",
       "      <th>0</th>\n",
       "      <td>2</td>\n",
       "      <td>0</td>\n",
       "      <td>0</td>\n",
       "      <td>7</td>\n",
       "      <td>29</td>\n",
       "      <td>NaN</td>\n",
       "      <td>NaN</td>\n",
       "      <td>158413</td>\n",
       "      <td>1</td>\n",
       "      <td>0</td>\n",
       "      <td>...</td>\n",
       "      <td>548</td>\n",
       "      <td>0</td>\n",
       "      <td>15.0</td>\n",
       "      <td>NaN</td>\n",
       "      <td>1.0</td>\n",
       "      <td>0.0</td>\n",
       "      <td>16</td>\n",
       "      <td>6.306275</td>\n",
       "      <td>256</td>\n",
       "      <td>0</td>\n",
       "    </tr>\n",
       "    <tr>\n",
       "      <th>1</th>\n",
       "      <td>3</td>\n",
       "      <td>0</td>\n",
       "      <td>0</td>\n",
       "      <td>12</td>\n",
       "      <td>27</td>\n",
       "      <td>8.0</td>\n",
       "      <td>8.0</td>\n",
       "      <td>380166</td>\n",
       "      <td>1</td>\n",
       "      <td>0</td>\n",
       "      <td>...</td>\n",
       "      <td>481</td>\n",
       "      <td>0</td>\n",
       "      <td>35.0</td>\n",
       "      <td>93.0</td>\n",
       "      <td>1.0</td>\n",
       "      <td>1.0</td>\n",
       "      <td>9</td>\n",
       "      <td>6.175867</td>\n",
       "      <td>81</td>\n",
       "      <td>0</td>\n",
       "    </tr>\n",
       "    <tr>\n",
       "      <th>2</th>\n",
       "      <td>4</td>\n",
       "      <td>0</td>\n",
       "      <td>0</td>\n",
       "      <td>12</td>\n",
       "      <td>34</td>\n",
       "      <td>14.0</td>\n",
       "      <td>12.0</td>\n",
       "      <td>367470</td>\n",
       "      <td>1</td>\n",
       "      <td>0</td>\n",
       "      <td>...</td>\n",
       "      <td>721</td>\n",
       "      <td>0</td>\n",
       "      <td>42.0</td>\n",
       "      <td>103.0</td>\n",
       "      <td>1.0</td>\n",
       "      <td>1.0</td>\n",
       "      <td>16</td>\n",
       "      <td>6.580639</td>\n",
       "      <td>256</td>\n",
       "      <td>0</td>\n",
       "    </tr>\n",
       "    <tr>\n",
       "      <th>3</th>\n",
       "      <td>5</td>\n",
       "      <td>1</td>\n",
       "      <td>1</td>\n",
       "      <td>11</td>\n",
       "      <td>27</td>\n",
       "      <td>11.0</td>\n",
       "      <td>12.0</td>\n",
       "      <td>380166</td>\n",
       "      <td>1</td>\n",
       "      <td>0</td>\n",
       "      <td>...</td>\n",
       "      <td>250</td>\n",
       "      <td>0</td>\n",
       "      <td>25.0</td>\n",
       "      <td>88.0</td>\n",
       "      <td>1.0</td>\n",
       "      <td>1.0</td>\n",
       "      <td>10</td>\n",
       "      <td>5.521461</td>\n",
       "      <td>100</td>\n",
       "      <td>0</td>\n",
       "    </tr>\n",
       "    <tr>\n",
       "      <th>4</th>\n",
       "      <td>6</td>\n",
       "      <td>1</td>\n",
       "      <td>1</td>\n",
       "      <td>12</td>\n",
       "      <td>34</td>\n",
       "      <td>8.0</td>\n",
       "      <td>7.0</td>\n",
       "      <td>367470</td>\n",
       "      <td>1</td>\n",
       "      <td>0</td>\n",
       "      <td>...</td>\n",
       "      <td>729</td>\n",
       "      <td>0</td>\n",
       "      <td>34.0</td>\n",
       "      <td>108.0</td>\n",
       "      <td>1.0</td>\n",
       "      <td>0.0</td>\n",
       "      <td>16</td>\n",
       "      <td>6.591674</td>\n",
       "      <td>256</td>\n",
       "      <td>0</td>\n",
       "    </tr>\n",
       "  </tbody>\n",
       "</table>\n",
       "<p>5 rows × 35 columns</p>\n",
       "</div>"
      ],
      "text/plain": [
       "   id  nearc2  nearc4  educ  age  fatheduc  motheduc  weight  momdad14  \\\n",
       "0   2       0       0     7   29       NaN       NaN  158413         1   \n",
       "1   3       0       0    12   27       8.0       8.0  380166         1   \n",
       "2   4       0       0    12   34      14.0      12.0  367470         1   \n",
       "3   5       1       1    11   27      11.0      12.0  380166         1   \n",
       "4   6       1       1    12   34       8.0       7.0  367470         1   \n",
       "\n",
       "   sinmom14  ...  wage  enroll   KWW     IQ  married  libcrd14  exper  \\\n",
       "0         0  ...   548       0  15.0    NaN      1.0       0.0     16   \n",
       "1         0  ...   481       0  35.0   93.0      1.0       1.0      9   \n",
       "2         0  ...   721       0  42.0  103.0      1.0       1.0     16   \n",
       "3         0  ...   250       0  25.0   88.0      1.0       1.0     10   \n",
       "4         0  ...   729       0  34.0  108.0      1.0       0.0     16   \n",
       "\n",
       "      lwage  expersq  educ_binary  \n",
       "0  6.306275      256            0  \n",
       "1  6.175867       81            0  \n",
       "2  6.580639      256            0  \n",
       "3  5.521461      100            0  \n",
       "4  6.591674      256            0  \n",
       "\n",
       "[5 rows x 35 columns]"
      ]
     },
     "execution_count": 3,
     "metadata": {},
     "output_type": "execute_result"
    }
   ],
   "source": [
    "data.head()"
   ]
  },
  {
   "cell_type": "code",
   "execution_count": 4,
   "metadata": {},
   "outputs": [],
   "source": [
    "causal_model = analyzer.causal_model(\n",
    "    treatment=\"educ_binary\",\n",
    "    outcome=\"lwage\",\n",
    "    confounders=[\n",
    "        \"exper\", \"expersq\", \"black\", \"smsa\", \"south\", \"smsa66\", \"reg662\", \"reg663\",\n",
    "        \"reg664\", \"reg665\", \"reg666\", \"reg667\", \"reg668\", \"reg669\"\n",
    "    ]\n",
    ")"
   ]
  },
  {
   "cell_type": "code",
   "execution_count": 5,
   "metadata": {},
   "outputs": [
    {
     "name": "stdout",
     "output_type": "stream",
     "text": [
      "0       1.057076\n",
      "1       1.859283\n",
      "2       1.142000\n",
      "3       1.614706\n",
      "4       1.146540\n",
      "          ...   \n",
      "3005    2.439782\n",
      "3006    1.214150\n",
      "3007    3.316739\n",
      "3008    1.178206\n",
      "3009    1.578712\n",
      "Length: 3010, dtype: float64\n"
     ]
    },
    {
     "data": {
      "text/plain": [
       "========================================================================================\n",
       "\u001b[1mCausal Effect Estimation Report\u001b[0m\n",
       "----------------------------------------------------------------------------------------\n",
       "\u001b[1mEstimate:\u001b[0m\n",
       "\u001b[1mAte:\u001b[0m 0.1959357580075756                     \u001b[1mSE:\u001b[0m 0.024798502487079266\n",
       "----------------------------------------------------------------------------------------\n",
       "\u001b[1mTreatment Variable: \u001b[0m\u001b[95m'educ_binary'\u001b[0m\n",
       "                                                                                        \n",
       "\u001b[1mOutcome Variable: \u001b[0m\u001b[95m'lwage'\u001b[0m\n",
       "                                                                                        \n",
       "\u001b[1mConfounders:\n",
       "\u001b[0m  \u001b[95m'exper', \u001b[0m\u001b[95m'expersq', \u001b[0m\u001b[95m'black', \u001b[0m\u001b[95m'smsa', \u001b[0m\u001b[95m'south', \u001b[0m\u001b[95m'smsa66', \u001b[0m\u001b[95m'reg662', \u001b[0m\u001b[95m'reg663', \u001b[0m\u001b[95m'reg664', \n",
       "  \u001b[0m\u001b[95m'reg665', \u001b[0m\u001b[95m'reg666', \u001b[0m\u001b[95m'reg667', \u001b[0m\u001b[95m'reg668', \u001b[0m\u001b[95m'reg669'\u001b[0m \n",
       "========================================================================================"
      ]
     },
     "execution_count": 5,
     "metadata": {},
     "output_type": "execute_result"
    }
   ],
   "source": [
    "causal_model.estimate_ate(method=\"weighted_regression\")"
   ]
  },
  {
   "cell_type": "code",
   "execution_count": 6,
   "metadata": {},
   "outputs": [
    {
     "data": {
      "text/plain": [
       "========================================================================================\n",
       "\u001b[1mCausal Effect Estimation Report\u001b[0m\n",
       "----------------------------------------------------------------------------------------\n",
       "\u001b[1mEstimate:\u001b[0m\n",
       "\u001b[1mAte:\u001b[0m 0.23847826657377313                    \u001b[1mSE:\u001b[0m 0.017312511542422422\n",
       "----------------------------------------------------------------------------------------\n",
       "\u001b[1mTreatment Variable: \u001b[0m\u001b[95m'educ_binary'\u001b[0m\n",
       "                                                                                        \n",
       "\u001b[1mOutcome Variable: \u001b[0m\u001b[95m'lwage'\u001b[0m\n",
       "                                                                                        \n",
       "\u001b[1mConfounders:\n",
       "\u001b[0m  \u001b[95m'exper', \u001b[0m\u001b[95m'expersq', \u001b[0m\u001b[95m'black', \u001b[0m\u001b[95m'smsa', \u001b[0m\u001b[95m'south', \u001b[0m\u001b[95m'smsa66', \u001b[0m\u001b[95m'reg662', \u001b[0m\u001b[95m'reg663', \u001b[0m\u001b[95m'reg664', \n",
       "  \u001b[0m\u001b[95m'reg665', \u001b[0m\u001b[95m'reg666', \u001b[0m\u001b[95m'reg667', \u001b[0m\u001b[95m'reg668', \u001b[0m\u001b[95m'reg669'\u001b[0m \n",
       "========================================================================================"
      ]
     },
     "execution_count": 6,
     "metadata": {},
     "output_type": "execute_result"
    }
   ],
   "source": [
    "causal_model.estimate_ate(method=\"outcome_regression\")"
   ]
  },
  {
   "cell_type": "code",
   "execution_count": null,
   "metadata": {},
   "outputs": [],
   "source": []
  }
 ],
 "metadata": {
  "kernelspec": {
   "display_name": "tm",
   "language": "python",
   "name": "python3"
  },
  "language_info": {
   "codemirror_mode": {
    "name": "ipython",
    "version": 3
   },
   "file_extension": ".py",
   "mimetype": "text/x-python",
   "name": "python",
   "nbconvert_exporter": "python",
   "pygments_lexer": "ipython3",
   "version": "3.12.5"
  }
 },
 "nbformat": 4,
 "nbformat_minor": 2
}
