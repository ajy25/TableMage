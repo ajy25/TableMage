{
 "cells": [
  {
   "cell_type": "code",
   "execution_count": 1,
   "metadata": {},
   "outputs": [],
   "source": [
    "import pandas as pd\n",
    "import sys\n",
    "sys.path.append(\"../..\")\n",
    "import tabularmagic as tm\n",
    "\n",
    "\n",
    "data = pd.read_csv(\"data/card.csv\")\n",
    "data[\"educ_binary\"] = data[\"educ\"].apply(lambda x: 1 if x >= 13 else 0)\n"
   ]
  },
  {
   "cell_type": "code",
   "execution_count": 2,
   "metadata": {},
   "outputs": [
    {
     "name": "stdout",
     "output_type": "stream",
     "text": [
      "\u001b[93mNOTE: \u001b[0mNo test DataFrame provided. The test DataFrame will be treated as a train \n",
      "      DataFrame copy. \n",
      "\u001b[92mUPDT: \u001b[0mAnalyzer initialized for dataset \u001b[93m'Unnamed Dataset'\u001b[0m. Shapes of train, test \n",
      "      DataFrames: \u001b[93m(3010, 35)\u001b[0m, \u001b[93m(3010, 35)\u001b[0m. \n"
     ]
    }
   ],
   "source": [
    "analyzer = tm.Analyzer(data)"
   ]
  },
  {
   "cell_type": "code",
   "execution_count": 3,
   "metadata": {},
   "outputs": [
    {
     "name": "stdout",
     "output_type": "stream",
     "text": [
      "\u001b[92mUPDT: \u001b[0mDropped rows with missing values. Shapes of train, test DataFrames: \u001b[93m(3010, 35)\u001b[0m, \n",
      "      \u001b[93m(3010, 35)\u001b[0m. \n"
     ]
    }
   ],
   "source": [
    "causal_model = analyzer.causal(\n",
    "    treatment=\"educ_binary\",\n",
    "    outcome=\"lwage\",\n",
    "    confounders=[\n",
    "        \"exper\", \"expersq\", \"black\", \"smsa\", \"south\", \"smsa66\", \"reg662\", \"reg663\",\n",
    "        \"reg664\", \"reg665\", \"reg666\", \"reg667\", \"reg668\", \"reg669\"\n",
    "    ]\n",
    ")"
   ]
  },
  {
   "cell_type": "code",
   "execution_count": 4,
   "metadata": {},
   "outputs": [
    {
     "data": {
      "text/plain": [
       "========================================================================================\n",
       "\u001b[1mCausal Effect Estimation Report\u001b[0m\n",
       "----------------------------------------------------------------------------------------\n",
       "\u001b[1mEst Avg Tmt Effect:\u001b[0m \u001b[93m0.2286\u001b[0m                  \u001b[1mStd Err:\u001b[0m \u001b[93m0.0154\u001b[0m\n",
       "----------------------------------------------------------------------------------------\n",
       "\u001b[1mTreatment variable:\n",
       "\u001b[0m\u001b[95m  'educ_binary'\u001b[0m\n",
       "                                                                                        \n",
       "\u001b[1mOutcome variable:\n",
       "\u001b[0m\u001b[95m  'lwage'\u001b[0m\n",
       "                                                                                        \n",
       "\u001b[1mConfounders:\n",
       "\u001b[0m  \u001b[95m'exper', \u001b[0m\u001b[95m'expersq', \u001b[0m\u001b[95m'black', \u001b[0m\u001b[95m'smsa', \u001b[0m\u001b[95m'south', \u001b[0m\u001b[95m'smsa66', \u001b[0m\u001b[95m'reg662', \u001b[0m\u001b[95m'reg663', \u001b[0m\u001b[95m'reg664', \n",
       "  \u001b[0m\u001b[95m'reg665', \u001b[0m\u001b[95m'reg666', \u001b[0m\u001b[95m'reg667', \u001b[0m\u001b[95m'reg668', \u001b[0m\u001b[95m'reg669'\u001b[0m \n",
       "----------------------------------------------------------------------------------------\n",
       "\u001b[1mMethod:\n",
       "\u001b[0m  \u001b[94mInverse Probability Weighting (IPW)-Weighted Regression\u001b[0m \n",
       "========================================================================================"
      ]
     },
     "execution_count": 4,
     "metadata": {},
     "output_type": "execute_result"
    }
   ],
   "source": [
    "causal_model.estimate_ate(\n",
    "    method=\"ipw_weighted_regression\"\n",
    ")"
   ]
  },
  {
   "cell_type": "code",
   "execution_count": 5,
   "metadata": {},
   "outputs": [
    {
     "ename": "AttributeError",
     "evalue": "'CausalModel' object has no attribute 'estimate_outcome_regression'",
     "output_type": "error",
     "traceback": [
      "\u001b[0;31m---------------------------------------------------------------------------\u001b[0m",
      "\u001b[0;31mAttributeError\u001b[0m                            Traceback (most recent call last)",
      "Cell \u001b[0;32mIn[5], line 1\u001b[0m\n\u001b[0;32m----> 1\u001b[0m \u001b[43mcausal_model\u001b[49m\u001b[38;5;241;43m.\u001b[39;49m\u001b[43mestimate_outcome_regression\u001b[49m(estimand\u001b[38;5;241m=\u001b[39m\u001b[38;5;124m\"\u001b[39m\u001b[38;5;124mate\u001b[39m\u001b[38;5;124m\"\u001b[39m)\n",
      "\u001b[0;31mAttributeError\u001b[0m: 'CausalModel' object has no attribute 'estimate_outcome_regression'"
     ]
    }
   ],
   "source": [
    "causal_model.estimate_outcome_regression(estimand=\"ate\")"
   ]
  },
  {
   "cell_type": "code",
   "execution_count": null,
   "metadata": {},
   "outputs": [],
   "source": []
  }
 ],
 "metadata": {
  "kernelspec": {
   "display_name": "tm",
   "language": "python",
   "name": "python3"
  },
  "language_info": {
   "codemirror_mode": {
    "name": "ipython",
    "version": 3
   },
   "file_extension": ".py",
   "mimetype": "text/x-python",
   "name": "python",
   "nbconvert_exporter": "python",
   "pygments_lexer": "ipython3",
   "version": "3.12.5"
  }
 },
 "nbformat": 4,
 "nbformat_minor": 2
}
