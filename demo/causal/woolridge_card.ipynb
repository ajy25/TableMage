{
 "cells": [
  {
   "cell_type": "code",
   "execution_count": 1,
   "metadata": {},
   "outputs": [],
   "source": [
    "import pandas as pd\n",
    "import sys\n",
    "sys.path.append(\"../..\")\n",
    "import tablemage as tm\n",
    "\n",
    "\n",
    "data = pd.read_csv(\"data/card.csv\")\n",
    "data[\"educ_binary\"] = data[\"educ\"].apply(lambda x: 1 if x >= 13 else 0)"
   ]
  },
  {
   "cell_type": "code",
   "execution_count": 2,
   "metadata": {},
   "outputs": [
    {
     "name": "stdout",
     "output_type": "stream",
     "text": [
      "\u001b[93mNOTE: \u001b[0mNo test dataset provided. The test dataset will be treated as a train dataset \n",
      "      copy. \n",
      "\u001b[92mUPDT: \u001b[0mAnalyzer initialized for dataset \u001b[93m'Unnamed Dataset'\u001b[0m. \n"
     ]
    }
   ],
   "source": [
    "analyzer = tm.Analyzer(data)"
   ]
  },
  {
   "cell_type": "code",
   "execution_count": 3,
   "metadata": {},
   "outputs": [],
   "source": [
    "causal_model = analyzer.causal(\n",
    "    treatment=\"educ_binary\",\n",
    "    outcome=\"lwage\",\n",
    "    confounders=[\n",
    "        \"exper\", \"expersq\", \"black\", \"smsa\", \"south\", \"smsa66\", \"reg662\", \"reg663\",\n",
    "        \"reg664\", \"reg665\", \"reg666\", \"reg667\", \"reg668\", \"reg669\"\n",
    "    ]\n",
    ")"
   ]
  },
  {
   "cell_type": "code",
   "execution_count": 8,
   "metadata": {},
   "outputs": [
    {
     "data": {
      "text/plain": [
       "========================================================================================\n",
       "\u001b[1mCausal Effect Estimation Report\u001b[0m\n",
       "----------------------------------------------------------------------------------------\n",
       "\u001b[1mEstimate:\u001b[0m \u001b[93m0.194\u001b[0m                             \u001b[1mStd Err:\u001b[0m \u001b[93m0.016\u001b[0m\n",
       "\u001b[1mEstimand:\u001b[0m \u001b[94mAvg Trmt Effect (ATE)\u001b[0m             \u001b[1mp-value:\u001b[0m \u001b[92m0.000e+00\u001b[0m\n",
       "----------------------------------------------------------------------------------------\n",
       "\u001b[1mTreatment variable:\n",
       "\u001b[0m\u001b[95m  'educ_binary'\u001b[0m\n",
       "                                                                                        \n",
       "\u001b[1mOutcome variable:\n",
       "\u001b[0m\u001b[95m  'lwage'\u001b[0m\n",
       "                                                                                        \n",
       "\u001b[1mConfounders:\n",
       "\u001b[0m  \u001b[95m'exper', \u001b[0m\u001b[95m'expersq', \u001b[0m\u001b[95m'black', \u001b[0m\u001b[95m'smsa', \u001b[0m\u001b[95m'south', \u001b[0m\u001b[95m'smsa66', \u001b[0m\u001b[95m'reg662', \u001b[0m\u001b[95m'reg663', \u001b[0m\u001b[95m'reg664', \n",
       "  \u001b[0m\u001b[95m'reg665', \u001b[0m\u001b[95m'reg666', \u001b[0m\u001b[95m'reg667', \u001b[0m\u001b[95m'reg668', \u001b[0m\u001b[95m'reg669'\u001b[0m \n",
       "----------------------------------------------------------------------------------------\n",
       "\u001b[1mMethod:\n",
       "\u001b[0m  \u001b[94mNaive Estimator (Difference in Means)\u001b[0m \n",
       "========================================================================================"
      ]
     },
     "execution_count": 8,
     "metadata": {},
     "output_type": "execute_result"
    }
   ],
   "source": [
    "report = causal_model.estimate_ate(\n",
    "    method=\"naive\"\n",
    ")\n",
    "report"
   ]
  },
  {
   "cell_type": "code",
   "execution_count": 6,
   "metadata": {},
   "outputs": [
    {
     "name": "stdout",
     "output_type": "stream",
     "text": [
      "\u001b[92mUPDT: \u001b[0mIPW estimator bootstrap sample 20/100 \n",
      "\u001b[92mUPDT: \u001b[0mIPW estimator bootstrap sample 40/100 \n",
      "\u001b[92mUPDT: \u001b[0mIPW estimator bootstrap sample 60/100 \n",
      "\u001b[92mUPDT: \u001b[0mIPW estimator bootstrap sample 80/100 \n",
      "\u001b[92mUPDT: \u001b[0mIPW estimator bootstrap sample 100/100 \n"
     ]
    },
    {
     "data": {
      "text/plain": [
       "========================================================================================\n",
       "\u001b[1mCausal Effect Estimation Report\u001b[0m\n",
       "----------------------------------------------------------------------------------------\n",
       "\u001b[1mEstimate:\u001b[0m \u001b[93m0.170\u001b[0m                             \u001b[1mStd Err:\u001b[0m \u001b[93m0.019\u001b[0m\n",
       "\u001b[1mEstimand:\u001b[0m \u001b[94mAvg Trmt Effect on Trtd (ATT)\u001b[0m     \u001b[1mp-value:\u001b[0m \u001b[92m0.000e+00\u001b[0m\n",
       "----------------------------------------------------------------------------------------\n",
       "\u001b[1mTreatment variable:\n",
       "\u001b[0m\u001b[95m  'educ_binary'\u001b[0m\n",
       "                                                                                        \n",
       "\u001b[1mOutcome variable:\n",
       "\u001b[0m\u001b[95m  'lwage'\u001b[0m\n",
       "                                                                                        \n",
       "\u001b[1mConfounders:\n",
       "\u001b[0m  \u001b[95m'exper', \u001b[0m\u001b[95m'expersq', \u001b[0m\u001b[95m'black', \u001b[0m\u001b[95m'smsa', \u001b[0m\u001b[95m'south', \u001b[0m\u001b[95m'smsa66', \u001b[0m\u001b[95m'reg662', \u001b[0m\u001b[95m'reg663', \u001b[0m\u001b[95m'reg664', \n",
       "  \u001b[0m\u001b[95m'reg665', \u001b[0m\u001b[95m'reg666', \u001b[0m\u001b[95m'reg667', \u001b[0m\u001b[95m'reg668', \u001b[0m\u001b[95m'reg669'\u001b[0m \n",
       "----------------------------------------------------------------------------------------\n",
       "\u001b[1mMethod:\n",
       "\u001b[0m  \u001b[94mInverse Probability Weighting (IPW) Estimator\u001b[0m \n",
       "========================================================================================"
      ]
     },
     "execution_count": 6,
     "metadata": {},
     "output_type": "execute_result"
    }
   ],
   "source": [
    "report = causal_model.estimate_att(\n",
    "    method=\"ipw_estimator\"\n",
    ")\n",
    "report"
   ]
  },
  {
   "cell_type": "code",
   "execution_count": null,
   "metadata": {},
   "outputs": [],
   "source": []
  }
 ],
 "metadata": {
  "kernelspec": {
   "display_name": "tm",
   "language": "python",
   "name": "python3"
  },
  "language_info": {
   "codemirror_mode": {
    "name": "ipython",
    "version": 3
   },
   "file_extension": ".py",
   "mimetype": "text/x-python",
   "name": "python",
   "nbconvert_exporter": "python",
   "pygments_lexer": "ipython3",
   "version": "3.12.4"
  }
 },
 "nbformat": 4,
 "nbformat_minor": 2
}
