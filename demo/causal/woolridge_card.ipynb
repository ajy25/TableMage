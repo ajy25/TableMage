{
 "cells": [
  {
   "cell_type": "code",
   "execution_count": 1,
   "metadata": {},
   "outputs": [],
   "source": [
    "import pandas as pd\n",
    "import sys\n",
    "sys.path.append(\"../..\")\n",
    "import tablemage as tm\n",
    "\n",
    "\n",
    "data = pd.read_csv(\"data/card.csv\")\n",
    "data[\"educ_binary\"] = data[\"educ\"].apply(lambda x: 1 if x >= 13 else 0)"
   ]
  },
  {
   "cell_type": "code",
   "execution_count": 2,
   "metadata": {},
   "outputs": [
    {
     "name": "stdout",
     "output_type": "stream",
     "text": [
      "\u001b[93mNOTE: \u001b[0mNo test dataset provided. The test dataset will be treated as a train dataset \n",
      "      copy. \n",
      "\u001b[92mUPDT: \u001b[0mAnalyzer initialized for dataset \u001b[93m'Unnamed Dataset'\u001b[0m. \n"
     ]
    }
   ],
   "source": [
    "analyzer = tm.Analyzer(data)"
   ]
  },
  {
   "cell_type": "code",
   "execution_count": 3,
   "metadata": {},
   "outputs": [],
   "source": [
    "causal_model = analyzer.causal(\n",
    "    treatment=\"educ_binary\",\n",
    "    outcome=\"lwage\",\n",
    "    confounders=[\n",
    "        \"exper\", \"expersq\", \"black\", \"smsa\", \"south\", \"smsa66\", \"reg662\", \"reg663\",\n",
    "        \"reg664\", \"reg665\", \"reg666\", \"reg667\", \"reg668\", \"reg669\"\n",
    "    ]\n",
    ")"
   ]
  },
  {
   "cell_type": "code",
   "execution_count": null,
   "metadata": {},
   "outputs": [],
   "source": []
  }
 ],
 "metadata": {
  "kernelspec": {
   "display_name": "tm",
   "language": "python",
   "name": "python3"
  },
  "language_info": {
   "codemirror_mode": {
    "name": "ipython",
    "version": 3
   },
   "file_extension": ".py",
   "mimetype": "text/x-python",
   "name": "python",
   "nbconvert_exporter": "python",
   "pygments_lexer": "ipython3",
   "version": "3.12.4"
  }
 },
 "nbformat": 4,
 "nbformat_minor": 2
}
