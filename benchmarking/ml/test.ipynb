{
 "cells": [
  {
   "cell_type": "code",
   "execution_count": 1,
   "metadata": {},
   "outputs": [],
   "source": [
    "from pathlib import Path\n",
    "import sys\n",
    "repo_dir = Path(\"__notebook__\").resolve().parent.parent.parent\n",
    "curr_dir = Path(\"__notebook__\").resolve().parent\n",
    "sys.path.append(str(repo_dir))\n",
    "\n",
    "import tablemage as tm"
   ]
  },
  {
   "cell_type": "code",
   "execution_count": 2,
   "metadata": {},
   "outputs": [
    {
     "name": "stdout",
     "output_type": "stream",
     "text": [
      "\u001b[92mUPDT: \u001b[0mAnalyzer initialized for dataset \u001b[93m'Unnamed Dataset'\u001b[0m. \n"
     ]
    },
    {
     "data": {
      "text/plain": [
       "========================================================================================\n",
       "\u001b[1mUnnamed Dataset\u001b[0m \n",
       "----------------------------------------------------------------------------------------\n",
       "\u001b[1mTrain shape: \u001b[0m\u001b[93m(7108, 43)\u001b[0m                     \u001b[1mTest shape: \u001b[0m\u001b[93m(1777, 43)\u001b[0m                      \n",
       "----------------------------------------------------------------------------------------\n",
       "\u001b[1mCategorical variables:\u001b[0m\n",
       "  \u001b[93mNone\u001b[0m \n",
       "                                                                                        \n",
       "\u001b[1mNumeric variables:\u001b[0m\n",
       "  \u001b[95m'oz1', \u001b[0m\u001b[95m'oz10', \u001b[0m\u001b[95m'oz11', \u001b[0m\u001b[95m'oz12', \u001b[0m\u001b[95m'oz124', \u001b[0m\u001b[95m'oz125', \u001b[0m\u001b[95m'oz126', \u001b[0m\u001b[95m'oz127', \u001b[0m\u001b[95m'oz128', \u001b[0m\u001b[95m'oz13', \n",
       "  \u001b[0m\u001b[95m'oz131', \u001b[0m\u001b[95m'oz133', \u001b[0m\u001b[95m'oz149', \u001b[0m\u001b[95m'oz150', \u001b[0m\u001b[95m'oz151', \u001b[0m\u001b[95m'oz165', \u001b[0m\u001b[95m'oz171', \u001b[0m\u001b[95m'oz172', \u001b[0m\u001b[95m'oz173', \n",
       "  \u001b[0m\u001b[95m'oz175', \u001b[0m\u001b[95m'oz176', \u001b[0m\u001b[95m'oz177', \u001b[0m\u001b[95m'oz178', \u001b[0m\u001b[95m'oz181', \u001b[0m\u001b[95m'oz183', \u001b[0m\u001b[95m'oz185', \u001b[0m\u001b[95m'oz197', \u001b[0m\u001b[95m'oz2', \n",
       "  \u001b[0m\u001b[95m'oz246', \u001b[0m\u001b[95m'oz247', \u001b[0m\u001b[95m'oz248', \u001b[0m\u001b[95m'oz249', \u001b[0m\u001b[95m'oz250', \u001b[0m\u001b[95m'oz251', \u001b[0m\u001b[95m'oz252', \u001b[0m\u001b[95m'oz3', \u001b[0m\u001b[95m'oz31', \u001b[0m\u001b[95m'oz4', \n",
       "  \u001b[0m\u001b[95m'oz5', \u001b[0m\u001b[95m'oz6', \u001b[0m\u001b[95m'oz83', \u001b[0m\u001b[95m'oz87', \u001b[0m\u001b[95m'oz9'\u001b[0m \n",
       "========================================================================================"
      ]
     },
     "execution_count": 2,
     "metadata": {},
     "output_type": "execute_result"
    }
   ],
   "source": [
    "import pandas as pd\n",
    "df = pd.read_csv(curr_dir / \"datasets\" / \"regression_numerical\" / \"361279_yprop_4_1.csv\")\n",
    "analyzer = tm.Analyzer(df, test_size=0.2, split_seed=42)\n",
    "analyzer"
   ]
  },
  {
   "cell_type": "code",
   "execution_count": 4,
   "metadata": {},
   "outputs": [
    {
     "name": "stdout",
     "output_type": "stream",
     "text": [
      "\u001b[92mUPDT: \u001b[0mEngineered numeric variable \u001b[95m'oz252_squared'\u001b[0m\u001b[93m = \u001b[0m\u001b[95m'oz252'\u001b[0m\u001b[93m ** 2\u001b[0m. \n"
     ]
    },
    {
     "data": {
      "text/plain": [
       "========================================================================================\n",
       "\u001b[1mUnnamed Dataset\u001b[0m \n",
       "----------------------------------------------------------------------------------------\n",
       "\u001b[1mTrain shape: \u001b[0m\u001b[93m(7108, 44)\u001b[0m                     \u001b[1mTest shape: \u001b[0m\u001b[93m(1777, 44)\u001b[0m                      \n",
       "----------------------------------------------------------------------------------------\n",
       "\u001b[1mCategorical variables:\u001b[0m\n",
       "  \u001b[93mNone\u001b[0m \n",
       "                                                                                        \n",
       "\u001b[1mNumeric variables:\u001b[0m\n",
       "  \u001b[95m'oz1', \u001b[0m\u001b[95m'oz10', \u001b[0m\u001b[95m'oz11', \u001b[0m\u001b[95m'oz12', \u001b[0m\u001b[95m'oz124', \u001b[0m\u001b[95m'oz125', \u001b[0m\u001b[95m'oz126', \u001b[0m\u001b[95m'oz127', \u001b[0m\u001b[95m'oz128', \u001b[0m\u001b[95m'oz13', \n",
       "  \u001b[0m\u001b[95m'oz131', \u001b[0m\u001b[95m'oz133', \u001b[0m\u001b[95m'oz149', \u001b[0m\u001b[95m'oz150', \u001b[0m\u001b[95m'oz151', \u001b[0m\u001b[95m'oz165', \u001b[0m\u001b[95m'oz171', \u001b[0m\u001b[95m'oz172', \u001b[0m\u001b[95m'oz173', \n",
       "  \u001b[0m\u001b[95m'oz175', \u001b[0m\u001b[95m'oz176', \u001b[0m\u001b[95m'oz177', \u001b[0m\u001b[95m'oz178', \u001b[0m\u001b[95m'oz181', \u001b[0m\u001b[95m'oz183', \u001b[0m\u001b[95m'oz185', \u001b[0m\u001b[95m'oz197', \u001b[0m\u001b[95m'oz2', \n",
       "  \u001b[0m\u001b[95m'oz246', \u001b[0m\u001b[95m'oz247', \u001b[0m\u001b[95m'oz248', \u001b[0m\u001b[95m'oz249', \u001b[0m\u001b[95m'oz250', \u001b[0m\u001b[95m'oz251', \u001b[0m\u001b[95m'oz252', \u001b[0m\u001b[95m'oz3', \u001b[0m\u001b[95m'oz31', \u001b[0m\u001b[95m'oz4', \n",
       "  \u001b[0m\u001b[95m'oz5', \u001b[0m\u001b[95m'oz6', \u001b[0m\u001b[95m'oz83', \u001b[0m\u001b[95m'oz87', \u001b[0m\u001b[95m'oz9', \u001b[0m\u001b[95m'oz252_squared'\u001b[0m \n",
       "========================================================================================"
      ]
     },
     "execution_count": 4,
     "metadata": {},
     "output_type": "execute_result"
    }
   ],
   "source": [
    "analyzer.engineer_numeric_var(\"oz252_squared\", \"oz252 ** 2\")"
   ]
  }
 ],
 "metadata": {
  "kernelspec": {
   "display_name": "tm",
   "language": "python",
   "name": "python3"
  },
  "language_info": {
   "codemirror_mode": {
    "name": "ipython",
    "version": 3
   },
   "file_extension": ".py",
   "mimetype": "text/x-python",
   "name": "python",
   "nbconvert_exporter": "python",
   "pygments_lexer": "ipython3",
   "version": "3.12.4"
  }
 },
 "nbformat": 4,
 "nbformat_minor": 2
}
