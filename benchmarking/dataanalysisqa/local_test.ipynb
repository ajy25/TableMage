{
 "cells": [
  {
   "cell_type": "code",
   "execution_count": 1,
   "metadata": {},
   "outputs": [],
   "source": [
    "from pathlib import Path\n",
    "import sys\n",
    "repo_dir = Path(\"__notebook__\").resolve().parent.parent.parent\n",
    "curr_dir = Path(\"__notebook__\").resolve().parent\n",
    "sys.path.append(str(repo_dir))\n",
    "\n",
    "import tablemage as tm"
   ]
  },
  {
   "cell_type": "code",
   "execution_count": 4,
   "metadata": {},
   "outputs": [
    {
     "name": "stdout",
     "output_type": "stream",
     "text": [
      "\u001b[92mUPDT: \u001b[0mAnalyzer initialized for dataset \u001b[93m'Unnamed Dataset'\u001b[0m. \n"
     ]
    },
    {
     "data": {
      "text/plain": [
       "========================================================================================\n",
       "\u001b[1mUnnamed Dataset\u001b[0m \n",
       "----------------------------------------------------------------------------------------\n",
       "\u001b[1mTrain shape: \u001b[0m\u001b[93m(1168, 81)\u001b[0m                      \u001b[1mTest shape: \u001b[0m\u001b[93m(292, 81)\u001b[0m                      \n",
       "----------------------------------------------------------------------------------------\n",
       "\u001b[1mCategorical variables:\u001b[0m\n",
       "  \u001b[95m'Alley', \u001b[0m\u001b[95m'BldgType', \u001b[0m\u001b[95m'BsmtCond', \u001b[0m\u001b[95m'BsmtExposure', \u001b[0m\u001b[95m'BsmtFinType1', \u001b[0m\u001b[95m'BsmtFinType2', \n",
       "  \u001b[0m\u001b[95m'BsmtQual', \u001b[0m\u001b[95m'CentralAir', \u001b[0m\u001b[95m'Condition1', \u001b[0m\u001b[95m'Condition2', \u001b[0m\u001b[95m'Electrical', \u001b[0m\u001b[95m'ExterCond', \n",
       "  \u001b[0m\u001b[95m'ExterQual', \u001b[0m\u001b[95m'Exterior1st', \u001b[0m\u001b[95m'Exterior2nd', \u001b[0m\u001b[95m'Fence', \u001b[0m\u001b[95m'FireplaceQu', \u001b[0m\u001b[95m'Foundation', \n",
       "  \u001b[0m\u001b[95m'Functional', \u001b[0m\u001b[95m'GarageCond', \u001b[0m\u001b[95m'GarageFinish', \u001b[0m\u001b[95m'GarageQual', \u001b[0m\u001b[95m'GarageType', \u001b[0m\u001b[95m'Heating', \n",
       "  \u001b[0m\u001b[95m'HeatingQC', \u001b[0m\u001b[95m'HouseStyle', \u001b[0m\u001b[95m'KitchenQual', \u001b[0m\u001b[95m'LandContour', \u001b[0m\u001b[95m'LandSlope', \u001b[0m\u001b[95m'LotConfig', \n",
       "  \u001b[0m\u001b[95m'LotShape', \u001b[0m\u001b[95m'MSZoning', \u001b[0m\u001b[95m'MasVnrType', \u001b[0m\u001b[95m'MiscFeature', \u001b[0m\u001b[95m'Neighborhood', \u001b[0m\u001b[95m'PavedDrive', \n",
       "  \u001b[0m\u001b[95m'PoolQC', \u001b[0m\u001b[95m'RoofMatl', \u001b[0m\u001b[95m'RoofStyle', \u001b[0m\u001b[95m'SaleCondition', \u001b[0m\u001b[95m'SaleType', \u001b[0m\u001b[95m'Street', \u001b[0m\u001b[95m'Utilities'\u001b[0m \n",
       "                                                                                        \n",
       "\u001b[1mNumeric variables:\u001b[0m\n",
       "  \u001b[95m'1stFlrSF', \u001b[0m\u001b[95m'2ndFlrSF', \u001b[0m\u001b[95m'3SsnPorch', \u001b[0m\u001b[95m'BedroomAbvGr', \u001b[0m\u001b[95m'BsmtFinSF1', \u001b[0m\u001b[95m'BsmtFinSF2', \n",
       "  \u001b[0m\u001b[95m'BsmtFullBath', \u001b[0m\u001b[95m'BsmtHalfBath', \u001b[0m\u001b[95m'BsmtUnfSF', \u001b[0m\u001b[95m'EnclosedPorch', \u001b[0m\u001b[95m'Fireplaces', \n",
       "  \u001b[0m\u001b[95m'FullBath', \u001b[0m\u001b[95m'GarageArea', \u001b[0m\u001b[95m'GarageCars', \u001b[0m\u001b[95m'GarageYrBlt', \u001b[0m\u001b[95m'GrLivArea', \u001b[0m\u001b[95m'HalfBath', \u001b[0m\u001b[95m'Id', \n",
       "  \u001b[0m\u001b[95m'KitchenAbvGr', \u001b[0m\u001b[95m'LotArea', \u001b[0m\u001b[95m'LotFrontage', \u001b[0m\u001b[95m'LowQualFinSF', \u001b[0m\u001b[95m'MSSubClass', \u001b[0m\u001b[95m'MasVnrArea', \n",
       "  \u001b[0m\u001b[95m'MiscVal', \u001b[0m\u001b[95m'MoSold', \u001b[0m\u001b[95m'OpenPorchSF', \u001b[0m\u001b[95m'OverallCond', \u001b[0m\u001b[95m'OverallQual', \u001b[0m\u001b[95m'PoolArea', \n",
       "  \u001b[0m\u001b[95m'SalePrice', \u001b[0m\u001b[95m'ScreenPorch', \u001b[0m\u001b[95m'TotRmsAbvGrd', \u001b[0m\u001b[95m'TotalBsmtSF', \u001b[0m\u001b[95m'WoodDeckSF', \u001b[0m\u001b[95m'YearBuilt', \n",
       "  \u001b[0m\u001b[95m'YearRemodAdd', \u001b[0m\u001b[95m'YrSold'\u001b[0m \n",
       "========================================================================================"
      ]
     },
     "execution_count": 4,
     "metadata": {},
     "output_type": "execute_result"
    }
   ],
   "source": [
    "import pandas as pd\n",
    "df = pd.read_csv(curr_dir / \"datasets\" / \"house_prices.csv\")\n",
    "analyzer = tm.Analyzer(df, test_size=0.2, split_seed=42)\n",
    "analyzer"
   ]
  },
  {
   "cell_type": "code",
   "execution_count": null,
   "metadata": {},
   "outputs": [],
   "source": []
  }
 ],
 "metadata": {
  "kernelspec": {
   "display_name": "tm",
   "language": "python",
   "name": "python3"
  },
  "language_info": {
   "codemirror_mode": {
    "name": "ipython",
    "version": 3
   },
   "file_extension": ".py",
   "mimetype": "text/x-python",
   "name": "python",
   "nbconvert_exporter": "python",
   "pygments_lexer": "ipython3",
   "version": "3.12.4"
  }
 },
 "nbformat": 4,
 "nbformat_minor": 2
}
