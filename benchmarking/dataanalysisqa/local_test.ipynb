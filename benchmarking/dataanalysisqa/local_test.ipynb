{
 "cells": [
  {
   "cell_type": "code",
   "execution_count": 5,
   "metadata": {},
   "outputs": [],
   "source": [
    "from pathlib import Path\n",
    "import sys\n",
    "repo_dir = Path(\"__notebook__\").resolve().parent.parent.parent\n",
    "curr_dir = Path(\"__notebook__\").resolve().parent\n",
    "sys.path.append(str(repo_dir))\n",
    "\n",
    "import tablemage as tm"
   ]
  },
  {
   "cell_type": "code",
   "execution_count": 6,
   "metadata": {},
   "outputs": [
    {
     "name": "stdout",
     "output_type": "stream",
     "text": [
      "\u001b[92mUPDT: \u001b[0mAnalyzer initialized for dataset \u001b[93m'Unnamed Dataset'\u001b[0m. \n"
     ]
    },
    {
     "data": {
      "text/plain": [
       "========================================================================================\n",
       "\u001b[1mUnnamed Dataset\u001b[0m \n",
       "----------------------------------------------------------------------------------------\n",
       "\u001b[1mTrain shape: \u001b[0m\u001b[93m(712, 12)\u001b[0m                      \u001b[1mTest shape: \u001b[0m\u001b[93m(179, 12)\u001b[0m                       \n",
       "----------------------------------------------------------------------------------------\n",
       "\u001b[1mCategorical variables:\u001b[0m\n",
       "  \u001b[95m'Cabin', \u001b[0m\u001b[95m'Embarked', \u001b[0m\u001b[95m'Name', \u001b[0m\u001b[95m'Sex', \u001b[0m\u001b[95m'Ticket'\u001b[0m \n",
       "                                                                                        \n",
       "\u001b[1mNumeric variables:\u001b[0m\n",
       "  \u001b[95m'Age', \u001b[0m\u001b[95m'Fare', \u001b[0m\u001b[95m'Parch', \u001b[0m\u001b[95m'PassengerId', \u001b[0m\u001b[95m'Pclass', \u001b[0m\u001b[95m'SibSp', \u001b[0m\u001b[95m'Survived'\u001b[0m \n",
       "========================================================================================"
      ]
     },
     "execution_count": 6,
     "metadata": {},
     "output_type": "execute_result"
    }
   ],
   "source": [
    "import pandas as pd\n",
    "df = pd.read_csv(curr_dir / \"datasets\" / \"titanic.csv\")\n",
    "analyzer = tm.Analyzer(df, test_size=0.2, split_seed=42)\n",
    "analyzer"
   ]
  },
  {
   "cell_type": "code",
   "execution_count": 8,
   "metadata": {},
   "outputs": [
    {
     "name": "stdout",
     "output_type": "stream",
     "text": [
      "\u001b[92mUPDT: \u001b[0mEngineered categorical variable \u001b[95m'Age_categorical'\u001b[0m from numeric variable \u001b[95m'Age'\u001b[0m with \n",
      "      categories \u001b[95m'young', \u001b[0m\u001b[95m'old'\u001b[0m. \n"
     ]
    },
    {
     "data": {
      "text/plain": [
       "========================================================================================\n",
       "\u001b[1mUnnamed Dataset\u001b[0m \n",
       "----------------------------------------------------------------------------------------\n",
       "\u001b[1mTrain shape: \u001b[0m\u001b[93m(712, 13)\u001b[0m                      \u001b[1mTest shape: \u001b[0m\u001b[93m(179, 13)\u001b[0m                       \n",
       "----------------------------------------------------------------------------------------\n",
       "\u001b[1mCategorical variables:\u001b[0m\n",
       "  \u001b[95m'Cabin', \u001b[0m\u001b[95m'Embarked', \u001b[0m\u001b[95m'Name', \u001b[0m\u001b[95m'Sex', \u001b[0m\u001b[95m'Ticket', \u001b[0m\u001b[95m'Age_categorical'\u001b[0m \n",
       "                                                                                        \n",
       "\u001b[1mNumeric variables:\u001b[0m\n",
       "  \u001b[95m'Age', \u001b[0m\u001b[95m'Fare', \u001b[0m\u001b[95m'Parch', \u001b[0m\u001b[95m'PassengerId', \u001b[0m\u001b[95m'Pclass', \u001b[0m\u001b[95m'SibSp', \u001b[0m\u001b[95m'Survived'\u001b[0m \n",
       "========================================================================================"
      ]
     },
     "execution_count": 8,
     "metadata": {},
     "output_type": "execute_result"
    }
   ],
   "source": [
    "analyzer.engineer_categorical_var(\n",
    "    \"Age_categorical\",\n",
    "    numeric_var=\"Age\",\n",
    "    level_names=[\n",
    "        \"young\", \"old\"\n",
    "    ],\n",
    "    thresholds=[50],\n",
    "    leq=False\n",
    ")"
   ]
  },
  {
   "cell_type": "code",
   "execution_count": 9,
   "metadata": {},
   "outputs": [
    {
     "name": "stdout",
     "output_type": "stream",
     "text": [
      "\u001b[93mNOTE: \u001b[0mTrain dataset: dropped 140 examples with missing values out of 712 total examples. \n",
      "\u001b[93mNOTE: \u001b[0mTest dataset: dropped 37 examples with missing values out of 179 total examples. \n"
     ]
    },
    {
     "data": {
      "text/plain": [
       "========================================================================================\n",
       "\u001b[1mLogistic Regression Report\u001b[0m\n",
       "----------------------------------------------------------------------------------------\n",
       "\u001b[1mTarget variable:\u001b[0m\n",
       "  \u001b[95m'Survived'\u001b[0m \n",
       "                                                                                        \n",
       "\u001b[1mPredictor variables (3):\u001b[0m\n",
       "  \u001b[95m'Age_categorical', \u001b[0m\u001b[95m'Fare', \u001b[0m\u001b[95m'Pclass'\u001b[0m \n",
       "----------------------------------------------------------------------------------------\n",
       "\u001b[1mMetrics:\u001b[0m\n",
       "  \u001b[1mTrain (572)\u001b[0m                                \u001b[1mTest (142)\u001b[0m \n",
       "    F1:     \u001b[93m0.475\u001b[0m                              F1:     \u001b[93m0.612\u001b[0m \n",
       "    Acc:    \u001b[93m0.668\u001b[0m                              Acc:    \u001b[93m0.732\u001b[0m \n",
       "    AUROC:  \u001b[93m0.707\u001b[0m                              AUROC:  \u001b[93m0.783\u001b[0m \n",
       "----------------------------------------------------------------------------------------\n",
       "\u001b[1mCoefficients:\u001b[0m\n",
       "\u001b[1m                                         Estimate         Std. Error            p-value \u001b[0m\n",
       "\u001b[1m  Predictor                                                                             \u001b[0m\n",
       "  const                                     0.599              0.406              0.140 \n",
       "  Age_categorical::young                    0.766              0.318              0.016 \n",
       "  Fare                                      0.004              0.003              0.110 \n",
       "  Pclass                                   -0.815              0.145              0.000 \n",
       "========================================================================================"
      ]
     },
     "execution_count": 9,
     "metadata": {},
     "output_type": "execute_result"
    }
   ],
   "source": [
    "analyzer.logit(\"Survived\", [\"Age_categorical\", \"Fare\", \"Pclass\"])"
   ]
  },
  {
   "cell_type": "code",
   "execution_count": 15,
   "metadata": {},
   "outputs": [
    {
     "data": {
      "text/plain": [
       "0.0775"
      ]
     },
     "execution_count": 15,
     "metadata": {},
     "output_type": "execute_result"
    }
   ],
   "source": [
    "analyzer.df_all()[\"Area\"].loc[df.index].median()"
   ]
  },
  {
   "cell_type": "code",
   "execution_count": null,
   "metadata": {},
   "outputs": [],
   "source": []
  }
 ],
 "metadata": {
  "kernelspec": {
   "display_name": "tm",
   "language": "python",
   "name": "python3"
  },
  "language_info": {
   "codemirror_mode": {
    "name": "ipython",
    "version": 3
   },
   "file_extension": ".py",
   "mimetype": "text/x-python",
   "name": "python",
   "nbconvert_exporter": "python",
   "pygments_lexer": "ipython3",
   "version": "3.12.4"
  }
 },
 "nbformat": 4,
 "nbformat_minor": 2
}
