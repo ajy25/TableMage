{
 "cells": [
  {
   "cell_type": "code",
   "execution_count": 1,
   "metadata": {},
   "outputs": [
    {
     "name": "stdout",
     "output_type": "stream",
     "text": [
      "\u001b[92mUPDT: \u001b[0mAnalyzer initialized for dataset \u001b[93m'Unnamed Dataset'\u001b[0m. \n"
     ]
    },
    {
     "data": {
      "text/plain": [
       "========================================================================================\n",
       "\u001b[1mUnnamed Dataset\u001b[0m \n",
       "----------------------------------------------------------------------------------------\n",
       "\u001b[1mTrain shape: \u001b[0m\u001b[93m(104, 14)\u001b[0m                       \u001b[1mTest shape: \u001b[0m\u001b[93m(26, 14)\u001b[0m                       \n",
       "----------------------------------------------------------------------------------------\n",
       "\u001b[1mCategorical variables:\u001b[0m\n",
       "  \u001b[93mNone\u001b[0m \n",
       "                                                                                        \n",
       "\u001b[1mNumeric variables:\u001b[0m\n",
       "  \u001b[95m'alcalinity_of_ash', \u001b[0m\u001b[95m'alcohol', \u001b[0m\u001b[95m'ash', \u001b[0m\u001b[95m'color_intensity', \u001b[0m\u001b[95m'flavanoids', \u001b[0m\u001b[95m'hue', \n",
       "  \u001b[0m\u001b[95m'magnesium', \u001b[0m\u001b[95m'malic_acid', \u001b[0m\u001b[95m'nonflavanoid_phenols', \u001b[0m\u001b[95m'od280/od315_of_diluted_wines', \n",
       "  \u001b[0m\u001b[95m'proanthocyanins', \u001b[0m\u001b[95m'proline', \u001b[0m\u001b[95m'total_phenols', \u001b[0m\u001b[95m'wine_class'\u001b[0m \n",
       "========================================================================================"
      ]
     },
     "execution_count": 1,
     "metadata": {},
     "output_type": "execute_result"
    }
   ],
   "source": [
    "from pathlib import Path\n",
    "curr_dir = Path(\"__notebook__\").parent.resolve()\n",
    "\n",
    "import pandas as pd\n",
    "import sys\n",
    "sys.path.append(\n",
    "    str(curr_dir.parent.parent.parent / \"tablemage\")\n",
    ")\n",
    "import tablemage as tm\n",
    "\n",
    "dataset_path = curr_dir.parent / \"datasets\" / \"wine.csv\"\n",
    "df = pd.read_csv(dataset_path, index_col=0)\n",
    "df = df[df['wine_class'] != 2]\n",
    "analyzer = tm.Analyzer(df, test_size=0.2)\n",
    "analyzer"
   ]
  },
  {
   "cell_type": "code",
   "execution_count": 2,
   "metadata": {},
   "outputs": [
    {
     "name": "stdout",
     "output_type": "stream",
     "text": [
      "\u001b[92mUPDT: \u001b[0mFitting model \u001b[94m'LinearC(l2)'\u001b[0m. \n",
      "\u001b[93mPROG: \u001b[0mFitting \u001b[94m'LinearC(l2)'\u001b[0m. Search method: OptunaSearchCV (100 trials, 500 total fits). \n",
      "       \n",
      "\u001b[93mPROG: \u001b[0mOptimal threshold set for \u001b[94m'LinearC(l2)'\u001b[0m via roc. \n",
      "\u001b[92mUPDT: \u001b[0mSuccessfully fitted model \u001b[94m'LinearC(l2)'\u001b[0m. \n"
     ]
    },
    {
     "data": {
      "text/plain": [
       "{'train_metrics': {'accuracy': {'LinearC(l2)': 0.923},\n",
       "  'f1': {'LinearC(l2)': 0.93},\n",
       "  'precision': {'LinearC(l2)': 0.946},\n",
       "  'recall': {'LinearC(l2)': 0.914},\n",
       "  'roc_auc': {'LinearC(l2)': 0.98},\n",
       "  'n_obs': {'LinearC(l2)': 104.0}},\n",
       " 'test_metrics': {'accuracy': {'LinearC(l2)': 0.962},\n",
       "  'f1': {'LinearC(l2)': 0.963},\n",
       "  'precision': {'LinearC(l2)': 0.929},\n",
       "  'recall': {'LinearC(l2)': 1.0},\n",
       "  'roc_auc': {'LinearC(l2)': 1.0},\n",
       "  'n_obs': {'LinearC(l2)': 26.0}},\n",
       " 'model_info': [{'name': 'LinearC(l2)',\n",
       "   'predictors': ['alcohol', 'flavanoids'],\n",
       "   'coefficients': {'Coefficients': {'alcohol': -1.871, 'flavanoids': -0.997}},\n",
       "   'fitting_details': {'estimator_name': 'LinearC(l2)',\n",
       "    'hyperparameter_search_strategy': 'OptunaSearchCV',\n",
       "    'hyperparameter_cv_num': 5,\n",
       "    'hyperparameter_grid': {'C': 'FloatDistribution(high=100.0, log=True, low=0.01, step=None)'},\n",
       "    'total_fits': 500,\n",
       "    'best_params': {'C': 0.288}}}]}"
      ]
     },
     "execution_count": 2,
     "metadata": {},
     "output_type": "execute_result"
    }
   ],
   "source": [
    "report = analyzer.classify(\n",
    "    models=[tm.ml.LinearC(\"l2\")],\n",
    "    target=\"wine_class\",\n",
    "    predictors=[\"alcohol\", \"flavanoids\"]\n",
    ")\n",
    "report._to_dict()"
   ]
  },
  {
   "cell_type": "code",
   "execution_count": null,
   "metadata": {},
   "outputs": [],
   "source": []
  }
 ],
 "metadata": {
  "kernelspec": {
   "display_name": "tm",
   "language": "python",
   "name": "python3"
  },
  "language_info": {
   "codemirror_mode": {
    "name": "ipython",
    "version": 3
   },
   "file_extension": ".py",
   "mimetype": "text/x-python",
   "name": "python",
   "nbconvert_exporter": "python",
   "pygments_lexer": "ipython3",
   "version": "3.12.4"
  }
 },
 "nbformat": 4,
 "nbformat_minor": 2
}
